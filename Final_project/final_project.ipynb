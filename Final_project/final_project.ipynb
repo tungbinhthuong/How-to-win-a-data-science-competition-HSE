{
  "nbformat": 4,
  "nbformat_minor": 0,
  "metadata": {
    "kernelspec": {
      "name": "python3",
      "display_name": "Python 3"
    },
    "language_info": {
      "codemirror_mode": {
        "name": "ipython",
        "version": 3
      },
      "file_extension": ".py",
      "mimetype": "text/x-python",
      "name": "python",
      "nbconvert_exporter": "python",
      "pygments_lexer": "ipython3",
      "version": "3.6.2"
    },
    "colab": {
      "name": "final_project.ipynb",
      "provenance": [],
      "collapsed_sections": [],
      "toc_visible": true,
      "machine_shape": "hm"
    },
    "accelerator": "GPU",
    "widgets": {
      "application/vnd.jupyter.widget-state+json": {
        "888fc563babf47339e05eeb141e0414b": {
          "model_module": "@jupyter-widgets/controls",
          "model_name": "HBoxModel",
          "state": {
            "_view_name": "HBoxView",
            "_dom_classes": [],
            "_model_name": "HBoxModel",
            "_view_module": "@jupyter-widgets/controls",
            "_model_module_version": "1.5.0",
            "_view_count": null,
            "_view_module_version": "1.5.0",
            "box_style": "",
            "layout": "IPY_MODEL_ee06b0e53d45401a9e26674f002a20e6",
            "_model_module": "@jupyter-widgets/controls",
            "children": [
              "IPY_MODEL_ce84fd8a212b49cd83745906a1f7ccee",
              "IPY_MODEL_308fa80f876e4e1385beee526592cbbc"
            ]
          }
        },
        "ee06b0e53d45401a9e26674f002a20e6": {
          "model_module": "@jupyter-widgets/base",
          "model_name": "LayoutModel",
          "state": {
            "_view_name": "LayoutView",
            "grid_template_rows": null,
            "right": null,
            "justify_content": null,
            "_view_module": "@jupyter-widgets/base",
            "overflow": null,
            "_model_module_version": "1.2.0",
            "_view_count": null,
            "flex_flow": null,
            "width": null,
            "min_width": null,
            "border": null,
            "align_items": null,
            "bottom": null,
            "_model_module": "@jupyter-widgets/base",
            "top": null,
            "grid_column": null,
            "overflow_y": null,
            "overflow_x": null,
            "grid_auto_flow": null,
            "grid_area": null,
            "grid_template_columns": null,
            "flex": null,
            "_model_name": "LayoutModel",
            "justify_items": null,
            "grid_row": null,
            "max_height": null,
            "align_content": null,
            "visibility": null,
            "align_self": null,
            "height": null,
            "min_height": null,
            "padding": null,
            "grid_auto_rows": null,
            "grid_gap": null,
            "max_width": null,
            "order": null,
            "_view_module_version": "1.2.0",
            "grid_template_areas": null,
            "object_position": null,
            "object_fit": null,
            "grid_auto_columns": null,
            "margin": null,
            "display": null,
            "left": null
          }
        },
        "ce84fd8a212b49cd83745906a1f7ccee": {
          "model_module": "@jupyter-widgets/controls",
          "model_name": "IntProgressModel",
          "state": {
            "_view_name": "ProgressView",
            "style": "IPY_MODEL_281a2f6b1f32458089037e921b6cab57",
            "_dom_classes": [],
            "description": "",
            "_model_name": "IntProgressModel",
            "bar_style": "success",
            "max": 6,
            "_view_module": "@jupyter-widgets/controls",
            "_model_module_version": "1.5.0",
            "value": 6,
            "_view_count": null,
            "_view_module_version": "1.5.0",
            "orientation": "horizontal",
            "min": 0,
            "description_tooltip": null,
            "_model_module": "@jupyter-widgets/controls",
            "layout": "IPY_MODEL_b5a3cbb02e2a43629ec4191c7013956e"
          }
        },
        "308fa80f876e4e1385beee526592cbbc": {
          "model_module": "@jupyter-widgets/controls",
          "model_name": "HTMLModel",
          "state": {
            "_view_name": "HTMLView",
            "style": "IPY_MODEL_e8fe10674bb94bacb280d138427e0499",
            "_dom_classes": [],
            "description": "",
            "_model_name": "HTMLModel",
            "placeholder": "​",
            "_view_module": "@jupyter-widgets/controls",
            "_model_module_version": "1.5.0",
            "value": "100% 6/6 [01:00&lt;00:00, 10.16s/it]",
            "_view_count": null,
            "_view_module_version": "1.5.0",
            "description_tooltip": null,
            "_model_module": "@jupyter-widgets/controls",
            "layout": "IPY_MODEL_5942005aa8324f3bbd5b6f68a8afefbf"
          }
        },
        "281a2f6b1f32458089037e921b6cab57": {
          "model_module": "@jupyter-widgets/controls",
          "model_name": "ProgressStyleModel",
          "state": {
            "_view_name": "StyleView",
            "_model_name": "ProgressStyleModel",
            "description_width": "",
            "_view_module": "@jupyter-widgets/base",
            "_model_module_version": "1.5.0",
            "_view_count": null,
            "_view_module_version": "1.2.0",
            "bar_color": null,
            "_model_module": "@jupyter-widgets/controls"
          }
        },
        "b5a3cbb02e2a43629ec4191c7013956e": {
          "model_module": "@jupyter-widgets/base",
          "model_name": "LayoutModel",
          "state": {
            "_view_name": "LayoutView",
            "grid_template_rows": null,
            "right": null,
            "justify_content": null,
            "_view_module": "@jupyter-widgets/base",
            "overflow": null,
            "_model_module_version": "1.2.0",
            "_view_count": null,
            "flex_flow": null,
            "width": null,
            "min_width": null,
            "border": null,
            "align_items": null,
            "bottom": null,
            "_model_module": "@jupyter-widgets/base",
            "top": null,
            "grid_column": null,
            "overflow_y": null,
            "overflow_x": null,
            "grid_auto_flow": null,
            "grid_area": null,
            "grid_template_columns": null,
            "flex": null,
            "_model_name": "LayoutModel",
            "justify_items": null,
            "grid_row": null,
            "max_height": null,
            "align_content": null,
            "visibility": null,
            "align_self": null,
            "height": null,
            "min_height": null,
            "padding": null,
            "grid_auto_rows": null,
            "grid_gap": null,
            "max_width": null,
            "order": null,
            "_view_module_version": "1.2.0",
            "grid_template_areas": null,
            "object_position": null,
            "object_fit": null,
            "grid_auto_columns": null,
            "margin": null,
            "display": null,
            "left": null
          }
        },
        "e8fe10674bb94bacb280d138427e0499": {
          "model_module": "@jupyter-widgets/controls",
          "model_name": "DescriptionStyleModel",
          "state": {
            "_view_name": "StyleView",
            "_model_name": "DescriptionStyleModel",
            "description_width": "",
            "_view_module": "@jupyter-widgets/base",
            "_model_module_version": "1.5.0",
            "_view_count": null,
            "_view_module_version": "1.2.0",
            "_model_module": "@jupyter-widgets/controls"
          }
        },
        "5942005aa8324f3bbd5b6f68a8afefbf": {
          "model_module": "@jupyter-widgets/base",
          "model_name": "LayoutModel",
          "state": {
            "_view_name": "LayoutView",
            "grid_template_rows": null,
            "right": null,
            "justify_content": null,
            "_view_module": "@jupyter-widgets/base",
            "overflow": null,
            "_model_module_version": "1.2.0",
            "_view_count": null,
            "flex_flow": null,
            "width": null,
            "min_width": null,
            "border": null,
            "align_items": null,
            "bottom": null,
            "_model_module": "@jupyter-widgets/base",
            "top": null,
            "grid_column": null,
            "overflow_y": null,
            "overflow_x": null,
            "grid_auto_flow": null,
            "grid_area": null,
            "grid_template_columns": null,
            "flex": null,
            "_model_name": "LayoutModel",
            "justify_items": null,
            "grid_row": null,
            "max_height": null,
            "align_content": null,
            "visibility": null,
            "align_self": null,
            "height": null,
            "min_height": null,
            "padding": null,
            "grid_auto_rows": null,
            "grid_gap": null,
            "max_width": null,
            "order": null,
            "_view_module_version": "1.2.0",
            "grid_template_areas": null,
            "object_position": null,
            "object_fit": null,
            "grid_auto_columns": null,
            "margin": null,
            "display": null,
            "left": null
          }
        }
      }
    }
  },
  "cells": [
    {
      "cell_type": "markdown",
      "metadata": {
        "id": "XwILxU-cYIsE"
      },
      "source": [
        "You can find all the data in `../readonly/final_project_data` folder or download it from [Kaggle](https://inclass.kaggle.com/c/competitive-data-science-final-project) if you are solving locally. \n",
        "\n",
        "**Good luck!**"
      ]
    },
    {
      "cell_type": "code",
      "metadata": {
        "trusted": true,
        "id": "uTJEv4fVYIsJ"
      },
      "source": [
        "import pandas as pd\n",
        "import numpy as np\n",
        "import gc\n",
        "import matplotlib.pyplot as plt\n",
        "import xgboost as xgb\n",
        "import matplotlib\n",
        "from sklearn.preprocessing import PolynomialFeatures\n",
        "%matplotlib inline \n",
        "\n",
        "pd.set_option('display.max_rows', 600)\n",
        "pd.set_option('display.max_columns', 50)\n",
        "\n",
        "import lightgbm as lgb\n",
        "from sklearn.decomposition import NMF\n",
        "from sklearn.linear_model import LinearRegression\n",
        "from sklearn.linear_model import Ridge\n",
        "from sklearn.metrics import r2_score\n",
        "from sklearn.model_selection import train_test_split\n",
        "from tqdm import tqdm_notebook\n",
        "from sklearn.preprocessing import StandardScaler\n",
        "from sklearn.feature_extraction.text import TfidfVectorizer\n",
        "from itertools import product\n",
        "\n",
        "\n",
        "def downcast_dtypes(df):\n",
        "    '''\n",
        "        Changes column types in the dataframe: \n",
        "                \n",
        "                `float64` type to `float32`\n",
        "                `int64`   type to `int32`\n",
        "    '''\n",
        "    \n",
        "    # Select columns to downcast\n",
        "    float_cols = [c for c in df if df[c].dtype == \"float64\"]\n",
        "    int_cols =   [c for c in df if df[c].dtype == \"int64\"]\n",
        "    \n",
        "    # Downcast\n",
        "    df[float_cols] = df[float_cols].astype(np.float32)\n",
        "    df[int_cols]   = df[int_cols].astype(np.int32)\n",
        "    \n",
        "    return df"
      ],
      "execution_count": null,
      "outputs": []
    },
    {
      "cell_type": "markdown",
      "metadata": {
        "id": "f8xJRldiFH7C"
      },
      "source": [
        "**IMPORT DATA FROM KAGGLE TO GOOGLE COLAB**"
      ]
    },
    {
      "cell_type": "code",
      "metadata": {
        "trusted": true,
        "id": "7G00iSrcYIsP"
      },
      "source": [
        "!pip install -U -q kaggle\n",
        "!mkdir -p ~/.kaggle\n"
      ],
      "execution_count": null,
      "outputs": []
    },
    {
      "cell_type": "code",
      "metadata": {
        "id": "pDLZ5CsrYn8t",
        "colab": {
          "resources": {
            "http://localhost:8080/nbextensions/google.colab/files.js": {
              "data": "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",
              "ok": true,
              "headers": [
                [
                  "content-type",
                  "application/javascript"
                ]
              ],
              "status": 200,
              "status_text": ""
            }
          },
          "base_uri": "https://localhost:8080/",
          "height": 91
        },
        "outputId": "84fe2fae-cb1e-46f2-b141-3a2e757116ba"
      },
      "source": [
        "\n",
        "from google.colab import files\n",
        "files.upload()"
      ],
      "execution_count": null,
      "outputs": [
        {
          "output_type": "display_data",
          "data": {
            "text/html": [
              "\n",
              "     <input type=\"file\" id=\"files-adbb3523-63b2-4aff-8e8f-d1f2b68f1090\" name=\"files[]\" multiple disabled />\n",
              "     <output id=\"result-adbb3523-63b2-4aff-8e8f-d1f2b68f1090\">\n",
              "      Upload widget is only available when the cell has been executed in the\n",
              "      current browser session. Please rerun this cell to enable.\n",
              "      </output>\n",
              "      <script src=\"/nbextensions/google.colab/files.js\"></script> "
            ],
            "text/plain": [
              "<IPython.core.display.HTML object>"
            ]
          },
          "metadata": {
            "tags": []
          }
        },
        {
          "output_type": "stream",
          "text": [
            "Saving kaggle.json to kaggle.json\n"
          ],
          "name": "stdout"
        },
        {
          "output_type": "execute_result",
          "data": {
            "text/plain": [
              "{'kaggle.json': b'{\"username\":\"tungbinhthuong\",\"key\":\"5eae00b9438ccb02e61a41defa482fb1\"}'}"
            ]
          },
          "metadata": {
            "tags": []
          },
          "execution_count": 4
        }
      ]
    },
    {
      "cell_type": "code",
      "metadata": {
        "id": "YU3D6NrnZBat"
      },
      "source": [
        "!cp kaggle.json ~/.kaggle/"
      ],
      "execution_count": null,
      "outputs": []
    },
    {
      "cell_type": "code",
      "metadata": {
        "id": "TyB567stZDs0",
        "colab": {
          "base_uri": "https://localhost:8080/",
          "height": 428
        },
        "outputId": "32c27251-67dc-416e-ca5f-66dd3c1dfda6"
      },
      "source": [
        "!kaggle competitions download -c competitive-data-science-predict-future-sales\n",
        "!ls"
      ],
      "execution_count": null,
      "outputs": [
        {
          "output_type": "stream",
          "text": [
            "Warning: Your Kaggle API key is readable by other users on this system! To fix this, you can run 'chmod 600 /root/.kaggle/kaggle.json'\n",
            "Warning: Looks like you're using an outdated API Version, please consider updating (server 1.5.6 / client 1.5.4)\n",
            "Downloading shops.csv to /content\n",
            "\r  0% 0.00/2.91k [00:00<?, ?B/s]\n",
            "100% 2.91k/2.91k [00:00<00:00, 2.55MB/s]\n",
            "Downloading items.csv.zip to /content\n",
            "  0% 0.00/368k [00:00<?, ?B/s]\n",
            "100% 368k/368k [00:00<00:00, 51.7MB/s]\n",
            "Downloading item_categories.csv to /content\n",
            "  0% 0.00/3.49k [00:00<?, ?B/s]\n",
            "100% 3.49k/3.49k [00:00<00:00, 3.62MB/s]\n",
            "Downloading sample_submission.csv.zip to /content\n",
            "  0% 0.00/468k [00:00<?, ?B/s]\n",
            "100% 468k/468k [00:00<00:00, 65.3MB/s]\n",
            "Downloading test.csv.zip to /content\n",
            "  0% 0.00/1.02M [00:00<?, ?B/s]\n",
            "100% 1.02M/1.02M [00:00<00:00, 69.1MB/s]\n",
            "Downloading sales_train.csv.zip to /content\n",
            " 53% 7.00M/13.3M [00:00<00:00, 70.4MB/s]\n",
            "100% 13.3M/13.3M [00:00<00:00, 84.9MB/s]\n",
            "item_categories.csv  sales_train.csv.zip\tshops.csv\n",
            "items.csv.zip\t     sample_data\t\ttest.csv.zip\n",
            "kaggle.json\t     sample_submission.csv.zip\n"
          ],
          "name": "stdout"
        }
      ]
    },
    {
      "cell_type": "code",
      "metadata": {
        "id": "MovIkUQYaBoQ",
        "colab": {
          "base_uri": "https://localhost:8080/",
          "height": 136
        },
        "outputId": "bc8a8a4f-1476-45bc-a851-7f2f665c35b9"
      },
      "source": [
        "!unzip sales_train.csv.zip\n",
        "!unzip shops.csv.zip\n",
        "!unzip items.csv.zip\n",
        "!unzip test.csv.zip"
      ],
      "execution_count": null,
      "outputs": [
        {
          "output_type": "stream",
          "text": [
            "Archive:  sales_train.csv.zip\n",
            "  inflating: sales_train.csv         \n",
            "unzip:  cannot find or open shops.csv.zip, shops.csv.zip.zip or shops.csv.zip.ZIP.\n",
            "Archive:  items.csv.zip\n",
            "  inflating: items.csv               \n",
            "Archive:  test.csv.zip\n",
            "  inflating: test.csv                \n"
          ],
          "name": "stdout"
        }
      ]
    },
    {
      "cell_type": "markdown",
      "metadata": {
        "id": "6yW9boomFOWo"
      },
      "source": [
        "**LOAD DATA**"
      ]
    },
    {
      "cell_type": "code",
      "metadata": {
        "id": "szHy_8ukZY0p"
      },
      "source": [
        "sales = pd.read_csv('/content/sales_train.csv')\n",
        "shops = pd.read_csv('/content/shops.csv')\n",
        "items = pd.read_csv('/content/items.csv')\n",
        "item_cats = pd.read_csv('/content/item_categories.csv')\n",
        "test = pd.read_csv('/content/test.csv')"
      ],
      "execution_count": null,
      "outputs": []
    },
    {
      "cell_type": "code",
      "metadata": {
        "id": "tu3GKw1TgNzX",
        "colab": {
          "base_uri": "https://localhost:8080/",
          "height": 204
        },
        "outputId": "e12a16a9-e4f0-4b73-9773-0896db6da04b"
      },
      "source": [
        "sales.head()"
      ],
      "execution_count": null,
      "outputs": [
        {
          "output_type": "execute_result",
          "data": {
            "text/html": [
              "<div>\n",
              "<style scoped>\n",
              "    .dataframe tbody tr th:only-of-type {\n",
              "        vertical-align: middle;\n",
              "    }\n",
              "\n",
              "    .dataframe tbody tr th {\n",
              "        vertical-align: top;\n",
              "    }\n",
              "\n",
              "    .dataframe thead th {\n",
              "        text-align: right;\n",
              "    }\n",
              "</style>\n",
              "<table border=\"1\" class=\"dataframe\">\n",
              "  <thead>\n",
              "    <tr style=\"text-align: right;\">\n",
              "      <th></th>\n",
              "      <th>date</th>\n",
              "      <th>date_block_num</th>\n",
              "      <th>shop_id</th>\n",
              "      <th>item_id</th>\n",
              "      <th>item_price</th>\n",
              "      <th>item_cnt_day</th>\n",
              "    </tr>\n",
              "  </thead>\n",
              "  <tbody>\n",
              "    <tr>\n",
              "      <th>0</th>\n",
              "      <td>02.01.2013</td>\n",
              "      <td>0</td>\n",
              "      <td>59</td>\n",
              "      <td>22154</td>\n",
              "      <td>999.00</td>\n",
              "      <td>1.0</td>\n",
              "    </tr>\n",
              "    <tr>\n",
              "      <th>1</th>\n",
              "      <td>03.01.2013</td>\n",
              "      <td>0</td>\n",
              "      <td>25</td>\n",
              "      <td>2552</td>\n",
              "      <td>899.00</td>\n",
              "      <td>1.0</td>\n",
              "    </tr>\n",
              "    <tr>\n",
              "      <th>2</th>\n",
              "      <td>05.01.2013</td>\n",
              "      <td>0</td>\n",
              "      <td>25</td>\n",
              "      <td>2552</td>\n",
              "      <td>899.00</td>\n",
              "      <td>-1.0</td>\n",
              "    </tr>\n",
              "    <tr>\n",
              "      <th>3</th>\n",
              "      <td>06.01.2013</td>\n",
              "      <td>0</td>\n",
              "      <td>25</td>\n",
              "      <td>2554</td>\n",
              "      <td>1709.05</td>\n",
              "      <td>1.0</td>\n",
              "    </tr>\n",
              "    <tr>\n",
              "      <th>4</th>\n",
              "      <td>15.01.2013</td>\n",
              "      <td>0</td>\n",
              "      <td>25</td>\n",
              "      <td>2555</td>\n",
              "      <td>1099.00</td>\n",
              "      <td>1.0</td>\n",
              "    </tr>\n",
              "  </tbody>\n",
              "</table>\n",
              "</div>"
            ],
            "text/plain": [
              "         date  date_block_num  shop_id  item_id  item_price  item_cnt_day\n",
              "0  02.01.2013               0       59    22154      999.00           1.0\n",
              "1  03.01.2013               0       25     2552      899.00           1.0\n",
              "2  05.01.2013               0       25     2552      899.00          -1.0\n",
              "3  06.01.2013               0       25     2554     1709.05           1.0\n",
              "4  15.01.2013               0       25     2555     1099.00           1.0"
            ]
          },
          "metadata": {
            "tags": []
          },
          "execution_count": 3
        }
      ]
    },
    {
      "cell_type": "code",
      "metadata": {
        "trusted": true,
        "id": "PctxKOLbYIsV",
        "colab": {
          "base_uri": "https://localhost:8080/",
          "height": 204
        },
        "outputId": "da19dd75-6cdd-487e-e19f-569508b8313a"
      },
      "source": [
        "test['date_block_num']=34\n",
        "test.head()"
      ],
      "execution_count": null,
      "outputs": [
        {
          "output_type": "execute_result",
          "data": {
            "text/html": [
              "<div>\n",
              "<style scoped>\n",
              "    .dataframe tbody tr th:only-of-type {\n",
              "        vertical-align: middle;\n",
              "    }\n",
              "\n",
              "    .dataframe tbody tr th {\n",
              "        vertical-align: top;\n",
              "    }\n",
              "\n",
              "    .dataframe thead th {\n",
              "        text-align: right;\n",
              "    }\n",
              "</style>\n",
              "<table border=\"1\" class=\"dataframe\">\n",
              "  <thead>\n",
              "    <tr style=\"text-align: right;\">\n",
              "      <th></th>\n",
              "      <th>ID</th>\n",
              "      <th>shop_id</th>\n",
              "      <th>item_id</th>\n",
              "      <th>date_block_num</th>\n",
              "    </tr>\n",
              "  </thead>\n",
              "  <tbody>\n",
              "    <tr>\n",
              "      <th>0</th>\n",
              "      <td>0</td>\n",
              "      <td>5</td>\n",
              "      <td>5037</td>\n",
              "      <td>34</td>\n",
              "    </tr>\n",
              "    <tr>\n",
              "      <th>1</th>\n",
              "      <td>1</td>\n",
              "      <td>5</td>\n",
              "      <td>5320</td>\n",
              "      <td>34</td>\n",
              "    </tr>\n",
              "    <tr>\n",
              "      <th>2</th>\n",
              "      <td>2</td>\n",
              "      <td>5</td>\n",
              "      <td>5233</td>\n",
              "      <td>34</td>\n",
              "    </tr>\n",
              "    <tr>\n",
              "      <th>3</th>\n",
              "      <td>3</td>\n",
              "      <td>5</td>\n",
              "      <td>5232</td>\n",
              "      <td>34</td>\n",
              "    </tr>\n",
              "    <tr>\n",
              "      <th>4</th>\n",
              "      <td>4</td>\n",
              "      <td>5</td>\n",
              "      <td>5268</td>\n",
              "      <td>34</td>\n",
              "    </tr>\n",
              "  </tbody>\n",
              "</table>\n",
              "</div>"
            ],
            "text/plain": [
              "   ID  shop_id  item_id  date_block_num\n",
              "0   0        5     5037              34\n",
              "1   1        5     5320              34\n",
              "2   2        5     5233              34\n",
              "3   3        5     5232              34\n",
              "4   4        5     5268              34"
            ]
          },
          "metadata": {
            "tags": []
          },
          "execution_count": 4
        }
      ]
    },
    {
      "cell_type": "code",
      "metadata": {
        "id": "BNfIIa78LJ69",
        "colab": {
          "base_uri": "https://localhost:8080/",
          "height": 204
        },
        "outputId": "313f371d-a7b7-4fcc-9f8a-d22ca6b6c78b"
      },
      "source": [
        "item_cats.head()"
      ],
      "execution_count": null,
      "outputs": [
        {
          "output_type": "execute_result",
          "data": {
            "text/html": [
              "<div>\n",
              "<style scoped>\n",
              "    .dataframe tbody tr th:only-of-type {\n",
              "        vertical-align: middle;\n",
              "    }\n",
              "\n",
              "    .dataframe tbody tr th {\n",
              "        vertical-align: top;\n",
              "    }\n",
              "\n",
              "    .dataframe thead th {\n",
              "        text-align: right;\n",
              "    }\n",
              "</style>\n",
              "<table border=\"1\" class=\"dataframe\">\n",
              "  <thead>\n",
              "    <tr style=\"text-align: right;\">\n",
              "      <th></th>\n",
              "      <th>item_category_name</th>\n",
              "      <th>item_category_id</th>\n",
              "    </tr>\n",
              "  </thead>\n",
              "  <tbody>\n",
              "    <tr>\n",
              "      <th>0</th>\n",
              "      <td>PC - Гарнитуры/Наушники</td>\n",
              "      <td>0</td>\n",
              "    </tr>\n",
              "    <tr>\n",
              "      <th>1</th>\n",
              "      <td>Аксессуары - PS2</td>\n",
              "      <td>1</td>\n",
              "    </tr>\n",
              "    <tr>\n",
              "      <th>2</th>\n",
              "      <td>Аксессуары - PS3</td>\n",
              "      <td>2</td>\n",
              "    </tr>\n",
              "    <tr>\n",
              "      <th>3</th>\n",
              "      <td>Аксессуары - PS4</td>\n",
              "      <td>3</td>\n",
              "    </tr>\n",
              "    <tr>\n",
              "      <th>4</th>\n",
              "      <td>Аксессуары - PSP</td>\n",
              "      <td>4</td>\n",
              "    </tr>\n",
              "  </tbody>\n",
              "</table>\n",
              "</div>"
            ],
            "text/plain": [
              "        item_category_name  item_category_id\n",
              "0  PC - Гарнитуры/Наушники                 0\n",
              "1         Аксессуары - PS2                 1\n",
              "2         Аксессуары - PS3                 2\n",
              "3         Аксессуары - PS4                 3\n",
              "4         Аксессуары - PSP                 4"
            ]
          },
          "metadata": {
            "tags": []
          },
          "execution_count": 5
        }
      ]
    },
    {
      "cell_type": "markdown",
      "metadata": {
        "id": "Jl9-gti7FU0J"
      },
      "source": [
        "**FEATURE EXTRACTION**"
      ]
    },
    {
      "cell_type": "code",
      "metadata": {
        "id": "zzOpvkf4LPrQ"
      },
      "source": [
        "#tf_idf\n",
        "vectorizer = TfidfVectorizer(max_features = 20)\n",
        "X = pd.DataFrame(vectorizer.fit_transform(item_cats['item_category_name']).toarray())"
      ],
      "execution_count": null,
      "outputs": []
    },
    {
      "cell_type": "code",
      "metadata": {
        "id": "jSazDRxMLSLT"
      },
      "source": [
        "tf_idf = []\n",
        "for cols in X.columns:\n",
        "    item_cats['category_tf_idf_'+str(cols+1)] = X[cols]\n",
        "    tf_idf.append('category_tf_idf_'+str(cols+1))\n",
        "del X"
      ],
      "execution_count": null,
      "outputs": []
    },
    {
      "cell_type": "code",
      "metadata": {
        "trusted": true,
        "id": "qsvqKEGKYIsc",
        "colab": {
          "base_uri": "https://localhost:8080/",
          "height": 204
        },
        "outputId": "833e317a-f962-4c8d-b6ad-cd1a3866639d"
      },
      "source": [
        "shops.head()"
      ],
      "execution_count": null,
      "outputs": [
        {
          "output_type": "execute_result",
          "data": {
            "text/html": [
              "<div>\n",
              "<style scoped>\n",
              "    .dataframe tbody tr th:only-of-type {\n",
              "        vertical-align: middle;\n",
              "    }\n",
              "\n",
              "    .dataframe tbody tr th {\n",
              "        vertical-align: top;\n",
              "    }\n",
              "\n",
              "    .dataframe thead th {\n",
              "        text-align: right;\n",
              "    }\n",
              "</style>\n",
              "<table border=\"1\" class=\"dataframe\">\n",
              "  <thead>\n",
              "    <tr style=\"text-align: right;\">\n",
              "      <th></th>\n",
              "      <th>shop_name</th>\n",
              "      <th>shop_id</th>\n",
              "    </tr>\n",
              "  </thead>\n",
              "  <tbody>\n",
              "    <tr>\n",
              "      <th>0</th>\n",
              "      <td>!Якутск Орджоникидзе, 56 фран</td>\n",
              "      <td>0</td>\n",
              "    </tr>\n",
              "    <tr>\n",
              "      <th>1</th>\n",
              "      <td>!Якутск ТЦ \"Центральный\" фран</td>\n",
              "      <td>1</td>\n",
              "    </tr>\n",
              "    <tr>\n",
              "      <th>2</th>\n",
              "      <td>Адыгея ТЦ \"Мега\"</td>\n",
              "      <td>2</td>\n",
              "    </tr>\n",
              "    <tr>\n",
              "      <th>3</th>\n",
              "      <td>Балашиха ТРК \"Октябрь-Киномир\"</td>\n",
              "      <td>3</td>\n",
              "    </tr>\n",
              "    <tr>\n",
              "      <th>4</th>\n",
              "      <td>Волжский ТЦ \"Волга Молл\"</td>\n",
              "      <td>4</td>\n",
              "    </tr>\n",
              "  </tbody>\n",
              "</table>\n",
              "</div>"
            ],
            "text/plain": [
              "                        shop_name  shop_id\n",
              "0   !Якутск Орджоникидзе, 56 фран        0\n",
              "1   !Якутск ТЦ \"Центральный\" фран        1\n",
              "2                Адыгея ТЦ \"Мега\"        2\n",
              "3  Балашиха ТРК \"Октябрь-Киномир\"        3\n",
              "4        Волжский ТЦ \"Волга Молл\"        4"
            ]
          },
          "metadata": {
            "tags": []
          },
          "execution_count": 8
        }
      ]
    },
    {
      "cell_type": "code",
      "metadata": {
        "id": "s7kYZqF5pM8Z"
      },
      "source": [
        "#tf_idf\n",
        "vectorizer = TfidfVectorizer(max_features = 20)\n",
        "X = pd.DataFrame(vectorizer.fit_transform(shops['shop_name']).toarray())"
      ],
      "execution_count": null,
      "outputs": []
    },
    {
      "cell_type": "code",
      "metadata": {
        "id": "XXV1CsqIpO0g"
      },
      "source": [
        "for cols in X.columns:\n",
        "    shops['shop_tf_idf_'+str(cols+1)] = X[cols]\n",
        "    tf_idf.append('shop_tf_idf_'+str(cols+1))\n",
        "del X"
      ],
      "execution_count": null,
      "outputs": []
    },
    {
      "cell_type": "code",
      "metadata": {
        "trusted": true,
        "id": "8pgdMNjrYIsi",
        "colab": {
          "base_uri": "https://localhost:8080/",
          "height": 204
        },
        "outputId": "ca8852c4-f9c6-4fc3-d9f5-a1184dd65e47"
      },
      "source": [
        "items['item_name'].astype(str)\n",
        "items.head()"
      ],
      "execution_count": null,
      "outputs": [
        {
          "output_type": "execute_result",
          "data": {
            "text/html": [
              "<div>\n",
              "<style scoped>\n",
              "    .dataframe tbody tr th:only-of-type {\n",
              "        vertical-align: middle;\n",
              "    }\n",
              "\n",
              "    .dataframe tbody tr th {\n",
              "        vertical-align: top;\n",
              "    }\n",
              "\n",
              "    .dataframe thead th {\n",
              "        text-align: right;\n",
              "    }\n",
              "</style>\n",
              "<table border=\"1\" class=\"dataframe\">\n",
              "  <thead>\n",
              "    <tr style=\"text-align: right;\">\n",
              "      <th></th>\n",
              "      <th>item_name</th>\n",
              "      <th>item_id</th>\n",
              "      <th>item_category_id</th>\n",
              "    </tr>\n",
              "  </thead>\n",
              "  <tbody>\n",
              "    <tr>\n",
              "      <th>0</th>\n",
              "      <td>! ВО ВЛАСТИ НАВАЖДЕНИЯ (ПЛАСТ.)         D</td>\n",
              "      <td>0</td>\n",
              "      <td>40</td>\n",
              "    </tr>\n",
              "    <tr>\n",
              "      <th>1</th>\n",
              "      <td>!ABBYY FineReader 12 Professional Edition Full...</td>\n",
              "      <td>1</td>\n",
              "      <td>76</td>\n",
              "    </tr>\n",
              "    <tr>\n",
              "      <th>2</th>\n",
              "      <td>***В ЛУЧАХ СЛАВЫ   (UNV)                    D</td>\n",
              "      <td>2</td>\n",
              "      <td>40</td>\n",
              "    </tr>\n",
              "    <tr>\n",
              "      <th>3</th>\n",
              "      <td>***ГОЛУБАЯ ВОЛНА  (Univ)                      D</td>\n",
              "      <td>3</td>\n",
              "      <td>40</td>\n",
              "    </tr>\n",
              "    <tr>\n",
              "      <th>4</th>\n",
              "      <td>***КОРОБКА (СТЕКЛО)                       D</td>\n",
              "      <td>4</td>\n",
              "      <td>40</td>\n",
              "    </tr>\n",
              "  </tbody>\n",
              "</table>\n",
              "</div>"
            ],
            "text/plain": [
              "                                           item_name  item_id  \\\n",
              "0          ! ВО ВЛАСТИ НАВАЖДЕНИЯ (ПЛАСТ.)         D        0   \n",
              "1  !ABBYY FineReader 12 Professional Edition Full...        1   \n",
              "2      ***В ЛУЧАХ СЛАВЫ   (UNV)                    D        2   \n",
              "3    ***ГОЛУБАЯ ВОЛНА  (Univ)                      D        3   \n",
              "4        ***КОРОБКА (СТЕКЛО)                       D        4   \n",
              "\n",
              "   item_category_id  \n",
              "0                40  \n",
              "1                76  \n",
              "2                40  \n",
              "3                40  \n",
              "4                40  "
            ]
          },
          "metadata": {
            "tags": []
          },
          "execution_count": 11
        }
      ]
    },
    {
      "cell_type": "code",
      "metadata": {
        "trusted": true,
        "id": "cWbIbPdeYIsp"
      },
      "source": [
        "#tf_idf\n",
        "vectorizer = TfidfVectorizer(max_features = 20)\n",
        "X = pd.DataFrame(vectorizer.fit_transform(items['item_name']).toarray())"
      ],
      "execution_count": null,
      "outputs": []
    },
    {
      "cell_type": "code",
      "metadata": {
        "trusted": true,
        "_kg_hide-output": false,
        "id": "iFB_xhKsYIsu"
      },
      "source": [
        "for cols in X.columns:\n",
        "    items['item_tf_idf_'+str(cols+1)]=X[cols]\n",
        "    tf_idf.append('item_tf_idf_'+str(cols+1))\n",
        "del X"
      ],
      "execution_count": null,
      "outputs": []
    },
    {
      "cell_type": "markdown",
      "metadata": {
        "id": "4KTE_pNAYIsy"
      },
      "source": [
        "**FEATURE MATRIX**"
      ]
    },
    {
      "cell_type": "code",
      "metadata": {
        "trusted": true,
        "id": "CsgZ1tGVYIsz",
        "colab": {
          "base_uri": "https://localhost:8080/",
          "height": 173
        },
        "outputId": "b1e0677f-f4af-4bda-8d65-276b57200c1e"
      },
      "source": [
        "# Create \"grid\" with columns\n",
        "index_cols = ['shop_id', 'item_id', 'date_block_num']\n",
        "\n",
        "# For every month we create a grid from all shops/items combinations from that month\n",
        "grid = [] \n",
        "for block_num in sales['date_block_num'].unique():\n",
        "    cur_shops = sales.loc[sales['date_block_num'] == block_num, 'shop_id'].unique()\n",
        "    cur_items = sales.loc[sales['date_block_num'] == block_num, 'item_id'].unique()\n",
        "    grid.append(np.array(list(product(*[cur_shops, cur_items, [block_num]])),dtype='int32'))\n",
        "\n",
        "# Turn the grid into a dataframe\n",
        "grid = pd.DataFrame(np.vstack(grid), columns = index_cols, dtype=np.int32)\n",
        "\n",
        "# Groupby data to get shop-item-month aggregates\n",
        "gb = sales.groupby(index_cols, as_index=False).agg({'item_cnt_day':{'target':'sum'}})\n",
        "# Fix column names\n",
        "gb.columns = [col[0] if col[-1]=='' else col[-1] for col in gb.columns.values] \n",
        "# Join it to the grid\n",
        "all_data = pd.merge(grid, gb, how='left', on=index_cols).fillna(0)\n",
        "\n",
        "# Same as above but with shop-month aggregates\n",
        "gb = sales.groupby(['shop_id', 'date_block_num'], as_index=False).agg({'item_cnt_day':{'target_shop':'sum'}})\n",
        "gb.columns = [col[0] if col[-1]=='' else col[-1] for col in gb.columns.values]\n",
        "all_data = pd.merge(all_data, gb, how='left', on=['shop_id', 'date_block_num']).fillna(0)\n",
        "\n",
        "# Same as above but with item-month aggregates\n",
        "gb = sales.groupby(['item_id', 'date_block_num'], as_index=False).agg({'item_cnt_day':{'target_item':'sum'}})\n",
        "gb.columns = [col[0] if col[-1] == '' else col[-1] for col in gb.columns.values]\n",
        "all_data = pd.merge(all_data, gb, how='left', on=['item_id', 'date_block_num']).fillna(0)\n",
        "\n",
        "# Same as above but with shop-month-mean aggregates (mean-encoding)\n",
        "gb = sales.groupby(['shop_id', 'date_block_num'], as_index=False).agg({'item_cnt_day':{'target_shop_mean':'mean'}})\n",
        "gb.columns = [col[0] if col[-1]=='' else col[-1] for col in gb.columns.values]\n",
        "all_data = pd.merge(all_data, gb, how='left', on=['shop_id', 'date_block_num']).fillna(0)\n",
        "\n",
        "# Same as above but with item-month-mean aggregates (mean-encoding)\n",
        "gb = sales.groupby(['item_id', 'date_block_num'], as_index=False).agg({'item_cnt_day':{'target_item_mean':'mean'}})\n",
        "gb.columns = [col[0] if col[-1]=='' else col[-1] for col in gb.columns.values]\n",
        "all_data = pd.merge(all_data, gb, how='left', on=['item_id', 'date_block_num']).fillna(0)\n",
        "\n",
        "\n",
        "\n",
        "# Downcast dtypes from 64 to 32 bit to save memory\n",
        "all_data = downcast_dtypes(all_data)\n",
        "del grid, gb \n",
        "gc.collect();"
      ],
      "execution_count": null,
      "outputs": [
        {
          "output_type": "stream",
          "text": [
            "/usr/local/lib/python3.6/dist-packages/pandas/core/groupby/generic.py:1455: FutureWarning: using a dict with renaming is deprecated and will be removed\n",
            "in a future version.\n",
            "\n",
            "For column-specific groupby renaming, use named aggregation\n",
            "\n",
            "    >>> df.groupby(...).agg(name=('column', aggfunc))\n",
            "\n",
            "  return super().aggregate(arg, *args, **kwargs)\n"
          ],
          "name": "stderr"
        }
      ]
    },
    {
      "cell_type": "code",
      "metadata": {
        "trusted": true,
        "id": "b9yrL5mMYIs6",
        "colab": {
          "base_uri": "https://localhost:8080/",
          "height": 204
        },
        "outputId": "44f23223-7388-4f9e-d5ef-2da04a2ec72c"
      },
      "source": [
        "all_data.head()"
      ],
      "execution_count": null,
      "outputs": [
        {
          "output_type": "execute_result",
          "data": {
            "text/html": [
              "<div>\n",
              "<style scoped>\n",
              "    .dataframe tbody tr th:only-of-type {\n",
              "        vertical-align: middle;\n",
              "    }\n",
              "\n",
              "    .dataframe tbody tr th {\n",
              "        vertical-align: top;\n",
              "    }\n",
              "\n",
              "    .dataframe thead th {\n",
              "        text-align: right;\n",
              "    }\n",
              "</style>\n",
              "<table border=\"1\" class=\"dataframe\">\n",
              "  <thead>\n",
              "    <tr style=\"text-align: right;\">\n",
              "      <th></th>\n",
              "      <th>shop_id</th>\n",
              "      <th>item_id</th>\n",
              "      <th>date_block_num</th>\n",
              "      <th>target</th>\n",
              "      <th>target_shop</th>\n",
              "      <th>target_item</th>\n",
              "      <th>target_shop_mean</th>\n",
              "      <th>target_item_mean</th>\n",
              "    </tr>\n",
              "  </thead>\n",
              "  <tbody>\n",
              "    <tr>\n",
              "      <th>0</th>\n",
              "      <td>59</td>\n",
              "      <td>22154</td>\n",
              "      <td>0</td>\n",
              "      <td>1.0</td>\n",
              "      <td>2017.0</td>\n",
              "      <td>18.0</td>\n",
              "      <td>1.092041</td>\n",
              "      <td>1.0</td>\n",
              "    </tr>\n",
              "    <tr>\n",
              "      <th>1</th>\n",
              "      <td>59</td>\n",
              "      <td>2552</td>\n",
              "      <td>0</td>\n",
              "      <td>0.0</td>\n",
              "      <td>2017.0</td>\n",
              "      <td>0.0</td>\n",
              "      <td>1.092041</td>\n",
              "      <td>0.0</td>\n",
              "    </tr>\n",
              "    <tr>\n",
              "      <th>2</th>\n",
              "      <td>59</td>\n",
              "      <td>2554</td>\n",
              "      <td>0</td>\n",
              "      <td>0.0</td>\n",
              "      <td>2017.0</td>\n",
              "      <td>1.0</td>\n",
              "      <td>1.092041</td>\n",
              "      <td>1.0</td>\n",
              "    </tr>\n",
              "    <tr>\n",
              "      <th>3</th>\n",
              "      <td>59</td>\n",
              "      <td>2555</td>\n",
              "      <td>0</td>\n",
              "      <td>0.0</td>\n",
              "      <td>2017.0</td>\n",
              "      <td>2.0</td>\n",
              "      <td>1.092041</td>\n",
              "      <td>1.0</td>\n",
              "    </tr>\n",
              "    <tr>\n",
              "      <th>4</th>\n",
              "      <td>59</td>\n",
              "      <td>2564</td>\n",
              "      <td>0</td>\n",
              "      <td>0.0</td>\n",
              "      <td>2017.0</td>\n",
              "      <td>5.0</td>\n",
              "      <td>1.092041</td>\n",
              "      <td>1.0</td>\n",
              "    </tr>\n",
              "  </tbody>\n",
              "</table>\n",
              "</div>"
            ],
            "text/plain": [
              "   shop_id  item_id  date_block_num  target  target_shop  target_item  \\\n",
              "0       59    22154               0     1.0       2017.0         18.0   \n",
              "1       59     2552               0     0.0       2017.0          0.0   \n",
              "2       59     2554               0     0.0       2017.0          1.0   \n",
              "3       59     2555               0     0.0       2017.0          2.0   \n",
              "4       59     2564               0     0.0       2017.0          5.0   \n",
              "\n",
              "   target_shop_mean  target_item_mean  \n",
              "0          1.092041               1.0  \n",
              "1          1.092041               0.0  \n",
              "2          1.092041               1.0  \n",
              "3          1.092041               1.0  \n",
              "4          1.092041               1.0  "
            ]
          },
          "metadata": {
            "tags": []
          },
          "execution_count": 15
        }
      ]
    },
    {
      "cell_type": "code",
      "metadata": {
        "trusted": true,
        "id": "GS_Himv-YItO",
        "colab": {
          "base_uri": "https://localhost:8080/",
          "height": 173
        },
        "outputId": "2e6fc641-df75-42ae-ca2c-21e1c54cb880"
      },
      "source": [
        "all_data=pd.concat([all_data, test], ignore_index=True,  keys=['shop_id','item_id','date_block_num']).fillna(0)"
      ],
      "execution_count": null,
      "outputs": [
        {
          "output_type": "stream",
          "text": [
            "/usr/local/lib/python3.6/dist-packages/ipykernel_launcher.py:1: FutureWarning: Sorting because non-concatenation axis is not aligned. A future version\n",
            "of pandas will change to not sort by default.\n",
            "\n",
            "To accept the future behavior, pass 'sort=False'.\n",
            "\n",
            "To retain the current behavior and silence the warning, pass 'sort=True'.\n",
            "\n",
            "  \"\"\"Entry point for launching an IPython kernel.\n"
          ],
          "name": "stderr"
        }
      ]
    },
    {
      "cell_type": "code",
      "metadata": {
        "trusted": true,
        "id": "FBKdMW7KYItf",
        "colab": {
          "base_uri": "https://localhost:8080/",
          "height": 204
        },
        "outputId": "10e7af6f-dd21-499b-edbf-40fc9d1b846d"
      },
      "source": [
        "all_data.head()"
      ],
      "execution_count": null,
      "outputs": [
        {
          "output_type": "execute_result",
          "data": {
            "text/html": [
              "<div>\n",
              "<style scoped>\n",
              "    .dataframe tbody tr th:only-of-type {\n",
              "        vertical-align: middle;\n",
              "    }\n",
              "\n",
              "    .dataframe tbody tr th {\n",
              "        vertical-align: top;\n",
              "    }\n",
              "\n",
              "    .dataframe thead th {\n",
              "        text-align: right;\n",
              "    }\n",
              "</style>\n",
              "<table border=\"1\" class=\"dataframe\">\n",
              "  <thead>\n",
              "    <tr style=\"text-align: right;\">\n",
              "      <th></th>\n",
              "      <th>ID</th>\n",
              "      <th>date_block_num</th>\n",
              "      <th>item_id</th>\n",
              "      <th>shop_id</th>\n",
              "      <th>target</th>\n",
              "      <th>target_item</th>\n",
              "      <th>target_item_mean</th>\n",
              "      <th>target_shop</th>\n",
              "      <th>target_shop_mean</th>\n",
              "    </tr>\n",
              "  </thead>\n",
              "  <tbody>\n",
              "    <tr>\n",
              "      <th>0</th>\n",
              "      <td>0.0</td>\n",
              "      <td>0</td>\n",
              "      <td>22154</td>\n",
              "      <td>59</td>\n",
              "      <td>1.0</td>\n",
              "      <td>18.0</td>\n",
              "      <td>1.0</td>\n",
              "      <td>2017.0</td>\n",
              "      <td>1.092041</td>\n",
              "    </tr>\n",
              "    <tr>\n",
              "      <th>1</th>\n",
              "      <td>0.0</td>\n",
              "      <td>0</td>\n",
              "      <td>2552</td>\n",
              "      <td>59</td>\n",
              "      <td>0.0</td>\n",
              "      <td>0.0</td>\n",
              "      <td>0.0</td>\n",
              "      <td>2017.0</td>\n",
              "      <td>1.092041</td>\n",
              "    </tr>\n",
              "    <tr>\n",
              "      <th>2</th>\n",
              "      <td>0.0</td>\n",
              "      <td>0</td>\n",
              "      <td>2554</td>\n",
              "      <td>59</td>\n",
              "      <td>0.0</td>\n",
              "      <td>1.0</td>\n",
              "      <td>1.0</td>\n",
              "      <td>2017.0</td>\n",
              "      <td>1.092041</td>\n",
              "    </tr>\n",
              "    <tr>\n",
              "      <th>3</th>\n",
              "      <td>0.0</td>\n",
              "      <td>0</td>\n",
              "      <td>2555</td>\n",
              "      <td>59</td>\n",
              "      <td>0.0</td>\n",
              "      <td>2.0</td>\n",
              "      <td>1.0</td>\n",
              "      <td>2017.0</td>\n",
              "      <td>1.092041</td>\n",
              "    </tr>\n",
              "    <tr>\n",
              "      <th>4</th>\n",
              "      <td>0.0</td>\n",
              "      <td>0</td>\n",
              "      <td>2564</td>\n",
              "      <td>59</td>\n",
              "      <td>0.0</td>\n",
              "      <td>5.0</td>\n",
              "      <td>1.0</td>\n",
              "      <td>2017.0</td>\n",
              "      <td>1.092041</td>\n",
              "    </tr>\n",
              "  </tbody>\n",
              "</table>\n",
              "</div>"
            ],
            "text/plain": [
              "    ID  date_block_num  item_id  shop_id  target  target_item  \\\n",
              "0  0.0               0    22154       59     1.0         18.0   \n",
              "1  0.0               0     2552       59     0.0          0.0   \n",
              "2  0.0               0     2554       59     0.0          1.0   \n",
              "3  0.0               0     2555       59     0.0          2.0   \n",
              "4  0.0               0     2564       59     0.0          5.0   \n",
              "\n",
              "   target_item_mean  target_shop  target_shop_mean  \n",
              "0               1.0       2017.0          1.092041  \n",
              "1               0.0       2017.0          1.092041  \n",
              "2               1.0       2017.0          1.092041  \n",
              "3               1.0       2017.0          1.092041  \n",
              "4               1.0       2017.0          1.092041  "
            ]
          },
          "metadata": {
            "tags": []
          },
          "execution_count": 17
        }
      ]
    },
    {
      "cell_type": "markdown",
      "metadata": {
        "id": "kTzXHgR-FiIk"
      },
      "source": [
        "**CREATE LAG FEATURES**"
      ]
    },
    {
      "cell_type": "code",
      "metadata": {
        "trusted": true,
        "id": "lmJkBWTEYIts",
        "colab": {
          "base_uri": "https://localhost:8080/",
          "height": 66,
          "referenced_widgets": [
            "888fc563babf47339e05eeb141e0414b",
            "ee06b0e53d45401a9e26674f002a20e6",
            "ce84fd8a212b49cd83745906a1f7ccee",
            "308fa80f876e4e1385beee526592cbbc",
            "281a2f6b1f32458089037e921b6cab57",
            "b5a3cbb02e2a43629ec4191c7013956e",
            "e8fe10674bb94bacb280d138427e0499",
            "5942005aa8324f3bbd5b6f68a8afefbf"
          ]
        },
        "outputId": "e63896ab-2d2c-41a6-e5a9-7f08e9684c56"
      },
      "source": [
        "# List of columns that we will use to create lags\n",
        "cols_to_rename = list(all_data.columns.difference(index_cols+['item_category_id']+['ID'])) \n",
        "# Remember to try from 1->12\n",
        "shift_range = [1,2,3,4,5,6]\n",
        "\n",
        "for month_shift in tqdm_notebook(shift_range):\n",
        "    train_shift = all_data[index_cols + cols_to_rename].copy()\n",
        "    \n",
        "    train_shift['date_block_num'] = train_shift['date_block_num'] + month_shift\n",
        "    \n",
        "    foo = lambda x: '{}_lag_{}'.format(x, month_shift) if x in cols_to_rename else x\n",
        "    train_shift = train_shift.rename(columns=foo)\n",
        "\n",
        "    all_data = pd.merge(all_data, train_shift, on=index_cols, how='left').fillna(0)\n",
        "\n",
        "del train_shift\n",
        "\n",
        "# Don't use old data from year 2013\n",
        "all_data = all_data[all_data['date_block_num'] >= 12] \n",
        "\n",
        "# List of all lagged features\n",
        "fit_cols = [col for col in all_data.columns if col[-1] in [str(item) for item in shift_range]]  \n",
        "\n",
        "# Category for each item\n",
        "item_category_mapping = items[['item_id','item_category_id']].drop_duplicates()\n",
        "\n",
        "all_data = pd.merge(all_data, item_category_mapping, how='left', on='item_id')\n",
        "all_data = downcast_dtypes(all_data)\n",
        "gc.collect();"
      ],
      "execution_count": null,
      "outputs": [
        {
          "output_type": "display_data",
          "data": {
            "application/vnd.jupyter.widget-view+json": {
              "model_id": "888fc563babf47339e05eeb141e0414b",
              "version_minor": 0,
              "version_major": 2
            },
            "text/plain": [
              "HBox(children=(IntProgress(value=0, max=6), HTML(value='')))"
            ]
          },
          "metadata": {
            "tags": []
          }
        },
        {
          "output_type": "stream",
          "text": [
            "\n"
          ],
          "name": "stdout"
        }
      ]
    },
    {
      "cell_type": "code",
      "metadata": {
        "trusted": true,
        "id": "hUJYScikYItb"
      },
      "source": [
        "all_data=pd.merge(all_data, items, sort=False, on = ['item_id','item_category_id'], how = 'left')"
      ],
      "execution_count": null,
      "outputs": []
    },
    {
      "cell_type": "code",
      "metadata": {
        "id": "Zb3VsoVmLx7s"
      },
      "source": [
        "all_data=pd.merge(all_data, item_cats, sort=False, on = ['item_category_id'], how = 'left')"
      ],
      "execution_count": null,
      "outputs": []
    },
    {
      "cell_type": "code",
      "metadata": {
        "id": "nkJbTWo2p6ln",
        "colab": {
          "base_uri": "https://localhost:8080/",
          "height": 338
        },
        "outputId": "5b74e628-76a6-48fa-ee97-f63fa1638a43"
      },
      "source": [
        "all_data=pd.merge(all_data, shops, sort=False, on = ['shop_id'], how = 'left')\n",
        "all_data.head()"
      ],
      "execution_count": null,
      "outputs": [
        {
          "output_type": "execute_result",
          "data": {
            "text/html": [
              "<div>\n",
              "<style scoped>\n",
              "    .dataframe tbody tr th:only-of-type {\n",
              "        vertical-align: middle;\n",
              "    }\n",
              "\n",
              "    .dataframe tbody tr th {\n",
              "        vertical-align: top;\n",
              "    }\n",
              "\n",
              "    .dataframe thead th {\n",
              "        text-align: right;\n",
              "    }\n",
              "</style>\n",
              "<table border=\"1\" class=\"dataframe\">\n",
              "  <thead>\n",
              "    <tr style=\"text-align: right;\">\n",
              "      <th></th>\n",
              "      <th>ID</th>\n",
              "      <th>date_block_num</th>\n",
              "      <th>item_id</th>\n",
              "      <th>shop_id</th>\n",
              "      <th>target</th>\n",
              "      <th>target_item</th>\n",
              "      <th>target_item_mean</th>\n",
              "      <th>target_shop</th>\n",
              "      <th>target_shop_mean</th>\n",
              "      <th>target_lag_1</th>\n",
              "      <th>target_item_lag_1</th>\n",
              "      <th>target_item_mean_lag_1</th>\n",
              "      <th>target_shop_lag_1</th>\n",
              "      <th>target_shop_mean_lag_1</th>\n",
              "      <th>target_lag_2</th>\n",
              "      <th>target_item_lag_2</th>\n",
              "      <th>target_item_mean_lag_2</th>\n",
              "      <th>target_shop_lag_2</th>\n",
              "      <th>target_shop_mean_lag_2</th>\n",
              "      <th>target_lag_3</th>\n",
              "      <th>target_item_lag_3</th>\n",
              "      <th>target_item_mean_lag_3</th>\n",
              "      <th>target_shop_lag_3</th>\n",
              "      <th>target_shop_mean_lag_3</th>\n",
              "      <th>target_lag_4</th>\n",
              "      <th>...</th>\n",
              "      <th>category_tf_idf_17</th>\n",
              "      <th>category_tf_idf_18</th>\n",
              "      <th>category_tf_idf_19</th>\n",
              "      <th>category_tf_idf_20</th>\n",
              "      <th>shop_name</th>\n",
              "      <th>shop_tf_idf_1</th>\n",
              "      <th>shop_tf_idf_2</th>\n",
              "      <th>shop_tf_idf_3</th>\n",
              "      <th>shop_tf_idf_4</th>\n",
              "      <th>shop_tf_idf_5</th>\n",
              "      <th>shop_tf_idf_6</th>\n",
              "      <th>shop_tf_idf_7</th>\n",
              "      <th>shop_tf_idf_8</th>\n",
              "      <th>shop_tf_idf_9</th>\n",
              "      <th>shop_tf_idf_10</th>\n",
              "      <th>shop_tf_idf_11</th>\n",
              "      <th>shop_tf_idf_12</th>\n",
              "      <th>shop_tf_idf_13</th>\n",
              "      <th>shop_tf_idf_14</th>\n",
              "      <th>shop_tf_idf_15</th>\n",
              "      <th>shop_tf_idf_16</th>\n",
              "      <th>shop_tf_idf_17</th>\n",
              "      <th>shop_tf_idf_18</th>\n",
              "      <th>shop_tf_idf_19</th>\n",
              "      <th>shop_tf_idf_20</th>\n",
              "    </tr>\n",
              "  </thead>\n",
              "  <tbody>\n",
              "    <tr>\n",
              "      <th>0</th>\n",
              "      <td>0.0</td>\n",
              "      <td>12</td>\n",
              "      <td>10297</td>\n",
              "      <td>54</td>\n",
              "      <td>4.0</td>\n",
              "      <td>23.0</td>\n",
              "      <td>1.000000</td>\n",
              "      <td>8198.0</td>\n",
              "      <td>1.295717</td>\n",
              "      <td>3.0</td>\n",
              "      <td>42.0</td>\n",
              "      <td>1.000000</td>\n",
              "      <td>10055.0</td>\n",
              "      <td>1.363205</td>\n",
              "      <td>0.0</td>\n",
              "      <td>2.0</td>\n",
              "      <td>1.000000</td>\n",
              "      <td>7978.0</td>\n",
              "      <td>1.413036</td>\n",
              "      <td>0.0</td>\n",
              "      <td>0.0</td>\n",
              "      <td>0.000000</td>\n",
              "      <td>0.0</td>\n",
              "      <td>0.000000</td>\n",
              "      <td>0.0</td>\n",
              "      <td>...</td>\n",
              "      <td>0.0</td>\n",
              "      <td>0.0</td>\n",
              "      <td>0.0</td>\n",
              "      <td>0.0</td>\n",
              "      <td>Химки ТЦ \"Мега\"</td>\n",
              "      <td>0.0</td>\n",
              "      <td>0.0</td>\n",
              "      <td>0.0</td>\n",
              "      <td>0.0</td>\n",
              "      <td>0.0</td>\n",
              "      <td>0.866844</td>\n",
              "      <td>0.0</td>\n",
              "      <td>0.0</td>\n",
              "      <td>0.0</td>\n",
              "      <td>0.0</td>\n",
              "      <td>0.0</td>\n",
              "      <td>0.0</td>\n",
              "      <td>0.0</td>\n",
              "      <td>0.0</td>\n",
              "      <td>0.0</td>\n",
              "      <td>0.0</td>\n",
              "      <td>0.49858</td>\n",
              "      <td>0.0</td>\n",
              "      <td>0.0</td>\n",
              "      <td>0.0</td>\n",
              "    </tr>\n",
              "    <tr>\n",
              "      <th>1</th>\n",
              "      <td>0.0</td>\n",
              "      <td>12</td>\n",
              "      <td>10296</td>\n",
              "      <td>54</td>\n",
              "      <td>3.0</td>\n",
              "      <td>17.0</td>\n",
              "      <td>1.000000</td>\n",
              "      <td>8198.0</td>\n",
              "      <td>1.295717</td>\n",
              "      <td>0.0</td>\n",
              "      <td>24.0</td>\n",
              "      <td>1.000000</td>\n",
              "      <td>10055.0</td>\n",
              "      <td>1.363205</td>\n",
              "      <td>0.0</td>\n",
              "      <td>0.0</td>\n",
              "      <td>0.000000</td>\n",
              "      <td>0.0</td>\n",
              "      <td>0.000000</td>\n",
              "      <td>0.0</td>\n",
              "      <td>0.0</td>\n",
              "      <td>0.000000</td>\n",
              "      <td>0.0</td>\n",
              "      <td>0.000000</td>\n",
              "      <td>0.0</td>\n",
              "      <td>...</td>\n",
              "      <td>0.0</td>\n",
              "      <td>0.0</td>\n",
              "      <td>0.0</td>\n",
              "      <td>0.0</td>\n",
              "      <td>Химки ТЦ \"Мега\"</td>\n",
              "      <td>0.0</td>\n",
              "      <td>0.0</td>\n",
              "      <td>0.0</td>\n",
              "      <td>0.0</td>\n",
              "      <td>0.0</td>\n",
              "      <td>0.866844</td>\n",
              "      <td>0.0</td>\n",
              "      <td>0.0</td>\n",
              "      <td>0.0</td>\n",
              "      <td>0.0</td>\n",
              "      <td>0.0</td>\n",
              "      <td>0.0</td>\n",
              "      <td>0.0</td>\n",
              "      <td>0.0</td>\n",
              "      <td>0.0</td>\n",
              "      <td>0.0</td>\n",
              "      <td>0.49858</td>\n",
              "      <td>0.0</td>\n",
              "      <td>0.0</td>\n",
              "      <td>0.0</td>\n",
              "    </tr>\n",
              "    <tr>\n",
              "      <th>2</th>\n",
              "      <td>0.0</td>\n",
              "      <td>12</td>\n",
              "      <td>10298</td>\n",
              "      <td>54</td>\n",
              "      <td>14.0</td>\n",
              "      <td>182.0</td>\n",
              "      <td>1.181818</td>\n",
              "      <td>8198.0</td>\n",
              "      <td>1.295717</td>\n",
              "      <td>21.0</td>\n",
              "      <td>369.0</td>\n",
              "      <td>1.308511</td>\n",
              "      <td>10055.0</td>\n",
              "      <td>1.363205</td>\n",
              "      <td>119.0</td>\n",
              "      <td>1309.0</td>\n",
              "      <td>2.226191</td>\n",
              "      <td>7978.0</td>\n",
              "      <td>1.413036</td>\n",
              "      <td>7.0</td>\n",
              "      <td>144.0</td>\n",
              "      <td>2.526316</td>\n",
              "      <td>6676.0</td>\n",
              "      <td>1.337876</td>\n",
              "      <td>0.0</td>\n",
              "      <td>...</td>\n",
              "      <td>0.0</td>\n",
              "      <td>0.0</td>\n",
              "      <td>0.0</td>\n",
              "      <td>0.0</td>\n",
              "      <td>Химки ТЦ \"Мега\"</td>\n",
              "      <td>0.0</td>\n",
              "      <td>0.0</td>\n",
              "      <td>0.0</td>\n",
              "      <td>0.0</td>\n",
              "      <td>0.0</td>\n",
              "      <td>0.866844</td>\n",
              "      <td>0.0</td>\n",
              "      <td>0.0</td>\n",
              "      <td>0.0</td>\n",
              "      <td>0.0</td>\n",
              "      <td>0.0</td>\n",
              "      <td>0.0</td>\n",
              "      <td>0.0</td>\n",
              "      <td>0.0</td>\n",
              "      <td>0.0</td>\n",
              "      <td>0.0</td>\n",
              "      <td>0.49858</td>\n",
              "      <td>0.0</td>\n",
              "      <td>0.0</td>\n",
              "      <td>0.0</td>\n",
              "    </tr>\n",
              "    <tr>\n",
              "      <th>3</th>\n",
              "      <td>0.0</td>\n",
              "      <td>12</td>\n",
              "      <td>10300</td>\n",
              "      <td>54</td>\n",
              "      <td>3.0</td>\n",
              "      <td>26.0</td>\n",
              "      <td>0.962963</td>\n",
              "      <td>8198.0</td>\n",
              "      <td>1.295717</td>\n",
              "      <td>1.0</td>\n",
              "      <td>54.0</td>\n",
              "      <td>1.058824</td>\n",
              "      <td>10055.0</td>\n",
              "      <td>1.363205</td>\n",
              "      <td>31.0</td>\n",
              "      <td>361.0</td>\n",
              "      <td>1.367424</td>\n",
              "      <td>7978.0</td>\n",
              "      <td>1.413036</td>\n",
              "      <td>0.0</td>\n",
              "      <td>53.0</td>\n",
              "      <td>1.606061</td>\n",
              "      <td>6676.0</td>\n",
              "      <td>1.337876</td>\n",
              "      <td>0.0</td>\n",
              "      <td>...</td>\n",
              "      <td>0.0</td>\n",
              "      <td>0.0</td>\n",
              "      <td>0.0</td>\n",
              "      <td>0.0</td>\n",
              "      <td>Химки ТЦ \"Мега\"</td>\n",
              "      <td>0.0</td>\n",
              "      <td>0.0</td>\n",
              "      <td>0.0</td>\n",
              "      <td>0.0</td>\n",
              "      <td>0.0</td>\n",
              "      <td>0.866844</td>\n",
              "      <td>0.0</td>\n",
              "      <td>0.0</td>\n",
              "      <td>0.0</td>\n",
              "      <td>0.0</td>\n",
              "      <td>0.0</td>\n",
              "      <td>0.0</td>\n",
              "      <td>0.0</td>\n",
              "      <td>0.0</td>\n",
              "      <td>0.0</td>\n",
              "      <td>0.0</td>\n",
              "      <td>0.49858</td>\n",
              "      <td>0.0</td>\n",
              "      <td>0.0</td>\n",
              "      <td>0.0</td>\n",
              "    </tr>\n",
              "    <tr>\n",
              "      <th>4</th>\n",
              "      <td>0.0</td>\n",
              "      <td>12</td>\n",
              "      <td>10284</td>\n",
              "      <td>54</td>\n",
              "      <td>1.0</td>\n",
              "      <td>3.0</td>\n",
              "      <td>1.000000</td>\n",
              "      <td>8198.0</td>\n",
              "      <td>1.295717</td>\n",
              "      <td>0.0</td>\n",
              "      <td>4.0</td>\n",
              "      <td>1.000000</td>\n",
              "      <td>10055.0</td>\n",
              "      <td>1.363205</td>\n",
              "      <td>0.0</td>\n",
              "      <td>3.0</td>\n",
              "      <td>1.000000</td>\n",
              "      <td>7978.0</td>\n",
              "      <td>1.413036</td>\n",
              "      <td>0.0</td>\n",
              "      <td>5.0</td>\n",
              "      <td>1.000000</td>\n",
              "      <td>6676.0</td>\n",
              "      <td>1.337876</td>\n",
              "      <td>0.0</td>\n",
              "      <td>...</td>\n",
              "      <td>0.0</td>\n",
              "      <td>0.0</td>\n",
              "      <td>0.0</td>\n",
              "      <td>0.0</td>\n",
              "      <td>Химки ТЦ \"Мега\"</td>\n",
              "      <td>0.0</td>\n",
              "      <td>0.0</td>\n",
              "      <td>0.0</td>\n",
              "      <td>0.0</td>\n",
              "      <td>0.0</td>\n",
              "      <td>0.866844</td>\n",
              "      <td>0.0</td>\n",
              "      <td>0.0</td>\n",
              "      <td>0.0</td>\n",
              "      <td>0.0</td>\n",
              "      <td>0.0</td>\n",
              "      <td>0.0</td>\n",
              "      <td>0.0</td>\n",
              "      <td>0.0</td>\n",
              "      <td>0.0</td>\n",
              "      <td>0.0</td>\n",
              "      <td>0.49858</td>\n",
              "      <td>0.0</td>\n",
              "      <td>0.0</td>\n",
              "      <td>0.0</td>\n",
              "    </tr>\n",
              "  </tbody>\n",
              "</table>\n",
              "<p>5 rows × 103 columns</p>\n",
              "</div>"
            ],
            "text/plain": [
              "    ID  date_block_num  item_id  shop_id  target  target_item  \\\n",
              "0  0.0              12    10297       54     4.0         23.0   \n",
              "1  0.0              12    10296       54     3.0         17.0   \n",
              "2  0.0              12    10298       54    14.0        182.0   \n",
              "3  0.0              12    10300       54     3.0         26.0   \n",
              "4  0.0              12    10284       54     1.0          3.0   \n",
              "\n",
              "   target_item_mean  target_shop  target_shop_mean  target_lag_1  \\\n",
              "0          1.000000       8198.0          1.295717           3.0   \n",
              "1          1.000000       8198.0          1.295717           0.0   \n",
              "2          1.181818       8198.0          1.295717          21.0   \n",
              "3          0.962963       8198.0          1.295717           1.0   \n",
              "4          1.000000       8198.0          1.295717           0.0   \n",
              "\n",
              "   target_item_lag_1  target_item_mean_lag_1  target_shop_lag_1  \\\n",
              "0               42.0                1.000000            10055.0   \n",
              "1               24.0                1.000000            10055.0   \n",
              "2              369.0                1.308511            10055.0   \n",
              "3               54.0                1.058824            10055.0   \n",
              "4                4.0                1.000000            10055.0   \n",
              "\n",
              "   target_shop_mean_lag_1  target_lag_2  target_item_lag_2  \\\n",
              "0                1.363205           0.0                2.0   \n",
              "1                1.363205           0.0                0.0   \n",
              "2                1.363205         119.0             1309.0   \n",
              "3                1.363205          31.0              361.0   \n",
              "4                1.363205           0.0                3.0   \n",
              "\n",
              "   target_item_mean_lag_2  target_shop_lag_2  target_shop_mean_lag_2  \\\n",
              "0                1.000000             7978.0                1.413036   \n",
              "1                0.000000                0.0                0.000000   \n",
              "2                2.226191             7978.0                1.413036   \n",
              "3                1.367424             7978.0                1.413036   \n",
              "4                1.000000             7978.0                1.413036   \n",
              "\n",
              "   target_lag_3  target_item_lag_3  target_item_mean_lag_3  target_shop_lag_3  \\\n",
              "0           0.0                0.0                0.000000                0.0   \n",
              "1           0.0                0.0                0.000000                0.0   \n",
              "2           7.0              144.0                2.526316             6676.0   \n",
              "3           0.0               53.0                1.606061             6676.0   \n",
              "4           0.0                5.0                1.000000             6676.0   \n",
              "\n",
              "   target_shop_mean_lag_3  target_lag_4  ...  category_tf_idf_17  \\\n",
              "0                0.000000           0.0  ...                 0.0   \n",
              "1                0.000000           0.0  ...                 0.0   \n",
              "2                1.337876           0.0  ...                 0.0   \n",
              "3                1.337876           0.0  ...                 0.0   \n",
              "4                1.337876           0.0  ...                 0.0   \n",
              "\n",
              "   category_tf_idf_18  category_tf_idf_19  category_tf_idf_20  \\\n",
              "0                 0.0                 0.0                 0.0   \n",
              "1                 0.0                 0.0                 0.0   \n",
              "2                 0.0                 0.0                 0.0   \n",
              "3                 0.0                 0.0                 0.0   \n",
              "4                 0.0                 0.0                 0.0   \n",
              "\n",
              "         shop_name  shop_tf_idf_1  shop_tf_idf_2  shop_tf_idf_3  \\\n",
              "0  Химки ТЦ \"Мега\"            0.0            0.0            0.0   \n",
              "1  Химки ТЦ \"Мега\"            0.0            0.0            0.0   \n",
              "2  Химки ТЦ \"Мега\"            0.0            0.0            0.0   \n",
              "3  Химки ТЦ \"Мега\"            0.0            0.0            0.0   \n",
              "4  Химки ТЦ \"Мега\"            0.0            0.0            0.0   \n",
              "\n",
              "   shop_tf_idf_4  shop_tf_idf_5  shop_tf_idf_6  shop_tf_idf_7  shop_tf_idf_8  \\\n",
              "0            0.0            0.0       0.866844            0.0            0.0   \n",
              "1            0.0            0.0       0.866844            0.0            0.0   \n",
              "2            0.0            0.0       0.866844            0.0            0.0   \n",
              "3            0.0            0.0       0.866844            0.0            0.0   \n",
              "4            0.0            0.0       0.866844            0.0            0.0   \n",
              "\n",
              "   shop_tf_idf_9  shop_tf_idf_10 shop_tf_idf_11  shop_tf_idf_12  \\\n",
              "0            0.0             0.0            0.0             0.0   \n",
              "1            0.0             0.0            0.0             0.0   \n",
              "2            0.0             0.0            0.0             0.0   \n",
              "3            0.0             0.0            0.0             0.0   \n",
              "4            0.0             0.0            0.0             0.0   \n",
              "\n",
              "   shop_tf_idf_13  shop_tf_idf_14  shop_tf_idf_15  shop_tf_idf_16  \\\n",
              "0             0.0             0.0             0.0             0.0   \n",
              "1             0.0             0.0             0.0             0.0   \n",
              "2             0.0             0.0             0.0             0.0   \n",
              "3             0.0             0.0             0.0             0.0   \n",
              "4             0.0             0.0             0.0             0.0   \n",
              "\n",
              "   shop_tf_idf_17  shop_tf_idf_18  shop_tf_idf_19  shop_tf_idf_20  \n",
              "0         0.49858             0.0             0.0             0.0  \n",
              "1         0.49858             0.0             0.0             0.0  \n",
              "2         0.49858             0.0             0.0             0.0  \n",
              "3         0.49858             0.0             0.0             0.0  \n",
              "4         0.49858             0.0             0.0             0.0  \n",
              "\n",
              "[5 rows x 103 columns]"
            ]
          },
          "metadata": {
            "tags": []
          },
          "execution_count": 21
        }
      ]
    },
    {
      "cell_type": "markdown",
      "metadata": {
        "id": "CdDLzGglFtyP"
      },
      "source": [
        "**COMPUTE NON-NEGATIVE MATRIX FEATURES FROM TF-IDF**"
      ]
    },
    {
      "cell_type": "code",
      "metadata": {
        "id": "VipDYHdku0kU"
      },
      "source": [
        "nmf = NMF(n_components = 20)\n",
        "W = nmf.fit_transform(all_data[tf_idf])"
      ],
      "execution_count": null,
      "outputs": []
    },
    {
      "cell_type": "code",
      "metadata": {
        "id": "bVN24oWRvCZ8"
      },
      "source": [
        "W = pd.DataFrame(W)\n",
        "W.columns = ['tf_idf_' + str(x) for x in range(0,20)]\n",
        "\n",
        "#drop previous tf_idf features\n",
        "all_data.drop(tf_idf, axis = 1, inplace = True)\n",
        "all_data = pd.concat([all_data,W], axis = 1)"
      ],
      "execution_count": null,
      "outputs": []
    },
    {
      "cell_type": "code",
      "metadata": {
        "id": "ei-1W15OqBCT"
      },
      "source": [
        "all_data.drop(['shop_name','item_name','item_category_name'], axis=1, inplace = True)\n",
        "\n",
        "#\n",
        "all_data = downcast_dtypes(all_data)"
      ],
      "execution_count": null,
      "outputs": []
    },
    {
      "cell_type": "code",
      "metadata": {
        "trusted": true,
        "id": "8yGvsNa7YItw",
        "colab": {
          "base_uri": "https://localhost:8080/",
          "height": 544
        },
        "outputId": "beacb609-f4e8-4224-adb5-9662bfae3d6e"
      },
      "source": [
        "print(all_data.columns)"
      ],
      "execution_count": null,
      "outputs": [
        {
          "output_type": "stream",
          "text": [
            "Index([                    'ID',         'date_block_num',\n",
            "                      'item_id',                'shop_id',\n",
            "                       'target',            'target_item',\n",
            "             'target_item_mean',            'target_shop',\n",
            "             'target_shop_mean',           'target_lag_1',\n",
            "            'target_item_lag_1', 'target_item_mean_lag_1',\n",
            "            'target_shop_lag_1', 'target_shop_mean_lag_1',\n",
            "                 'target_lag_2',      'target_item_lag_2',\n",
            "       'target_item_mean_lag_2',      'target_shop_lag_2',\n",
            "       'target_shop_mean_lag_2',           'target_lag_3',\n",
            "            'target_item_lag_3', 'target_item_mean_lag_3',\n",
            "            'target_shop_lag_3', 'target_shop_mean_lag_3',\n",
            "                 'target_lag_4',      'target_item_lag_4',\n",
            "       'target_item_mean_lag_4',      'target_shop_lag_4',\n",
            "       'target_shop_mean_lag_4',           'target_lag_5',\n",
            "            'target_item_lag_5', 'target_item_mean_lag_5',\n",
            "            'target_shop_lag_5', 'target_shop_mean_lag_5',\n",
            "                 'target_lag_6',      'target_item_lag_6',\n",
            "       'target_item_mean_lag_6',      'target_shop_lag_6',\n",
            "       'target_shop_mean_lag_6',       'item_category_id',\n",
            "                              0,                        1,\n",
            "                              2,                        3,\n",
            "                              4,                        5,\n",
            "                              6,                        7,\n",
            "                              8,                        9,\n",
            "                             10,                       11,\n",
            "                             12,                       13,\n",
            "                             14,                       15,\n",
            "                             16,                       17,\n",
            "                             18,                       19],\n",
            "      dtype='object')\n"
          ],
          "name": "stdout"
        }
      ]
    },
    {
      "cell_type": "code",
      "metadata": {
        "trusted": true,
        "id": "0cD-t4VIYIt0"
      },
      "source": [
        "to_drop_cols=['target_shop', \n",
        "              'target', \n",
        "              'target_item', \n",
        "              'date_block_num',\n",
        "              'ID',\n",
        "              #'date_target_mean',\n",
        "              'target_item_mean',\n",
        "              'target_shop_mean']"
      ],
      "execution_count": null,
      "outputs": []
    },
    {
      "cell_type": "markdown",
      "metadata": {
        "id": "uvHWQSFhF4qE"
      },
      "source": [
        "**VALIDATION SCHEME**"
      ]
    },
    {
      "cell_type": "code",
      "metadata": {
        "trusted": true,
        "id": "wCH8eW6BYIt3"
      },
      "source": [
        "X_test = all_data.loc[all_data['date_block_num']==34].drop(to_drop_cols, axis=1)\n",
        "y_test = all_data.loc[all_data['date_block_num']==34, 'target'].values\n"
      ],
      "execution_count": null,
      "outputs": []
    },
    {
      "cell_type": "code",
      "metadata": {
        "trusted": true,
        "id": "McTijLu-YIt9",
        "colab": {
          "base_uri": "https://localhost:8080/",
          "height": 34
        },
        "outputId": "ea868dd0-adc7-4b85-c474-d60fa30c5a48"
      },
      "source": [
        "y_test.shape"
      ],
      "execution_count": null,
      "outputs": [
        {
          "output_type": "execute_result",
          "data": {
            "text/plain": [
              "(214200,)"
            ]
          },
          "metadata": {
            "tags": []
          },
          "execution_count": 33
        }
      ]
    },
    {
      "cell_type": "code",
      "metadata": {
        "trusted": true,
        "id": "MXe9sfRpYIuB"
      },
      "source": [
        "X_train =  all_data[all_data['date_block_num']!=34].drop(to_drop_cols,axis=1)\n",
        "y_train = all_data.loc[all_data['date_block_num']!=34, 'target'].values"
      ],
      "execution_count": null,
      "outputs": []
    },
    {
      "cell_type": "code",
      "metadata": {
        "trusted": true,
        "id": "k6R5GVZvYIuF",
        "colab": {
          "base_uri": "https://localhost:8080/",
          "height": 253
        },
        "outputId": "26704128-c838-44af-cb4f-2e1dd41b000d"
      },
      "source": [
        "X_train.head()"
      ],
      "execution_count": null,
      "outputs": [
        {
          "output_type": "execute_result",
          "data": {
            "text/html": [
              "<div>\n",
              "<style scoped>\n",
              "    .dataframe tbody tr th:only-of-type {\n",
              "        vertical-align: middle;\n",
              "    }\n",
              "\n",
              "    .dataframe tbody tr th {\n",
              "        vertical-align: top;\n",
              "    }\n",
              "\n",
              "    .dataframe thead th {\n",
              "        text-align: right;\n",
              "    }\n",
              "</style>\n",
              "<table border=\"1\" class=\"dataframe\">\n",
              "  <thead>\n",
              "    <tr style=\"text-align: right;\">\n",
              "      <th></th>\n",
              "      <th>item_id</th>\n",
              "      <th>shop_id</th>\n",
              "      <th>target_lag_1</th>\n",
              "      <th>target_item_lag_1</th>\n",
              "      <th>target_item_mean_lag_1</th>\n",
              "      <th>target_shop_lag_1</th>\n",
              "      <th>target_shop_mean_lag_1</th>\n",
              "      <th>target_lag_2</th>\n",
              "      <th>target_item_lag_2</th>\n",
              "      <th>target_item_mean_lag_2</th>\n",
              "      <th>target_shop_lag_2</th>\n",
              "      <th>target_shop_mean_lag_2</th>\n",
              "      <th>target_lag_3</th>\n",
              "      <th>target_item_lag_3</th>\n",
              "      <th>target_item_mean_lag_3</th>\n",
              "      <th>target_shop_lag_3</th>\n",
              "      <th>target_shop_mean_lag_3</th>\n",
              "      <th>target_lag_4</th>\n",
              "      <th>target_item_lag_4</th>\n",
              "      <th>target_item_mean_lag_4</th>\n",
              "      <th>target_shop_lag_4</th>\n",
              "      <th>target_shop_mean_lag_4</th>\n",
              "      <th>target_lag_5</th>\n",
              "      <th>target_item_lag_5</th>\n",
              "      <th>target_item_mean_lag_5</th>\n",
              "      <th>...</th>\n",
              "      <th>target_item_lag_6</th>\n",
              "      <th>target_item_mean_lag_6</th>\n",
              "      <th>target_shop_lag_6</th>\n",
              "      <th>target_shop_mean_lag_6</th>\n",
              "      <th>item_category_id</th>\n",
              "      <th>0</th>\n",
              "      <th>1</th>\n",
              "      <th>2</th>\n",
              "      <th>3</th>\n",
              "      <th>4</th>\n",
              "      <th>5</th>\n",
              "      <th>6</th>\n",
              "      <th>7</th>\n",
              "      <th>8</th>\n",
              "      <th>9</th>\n",
              "      <th>10</th>\n",
              "      <th>11</th>\n",
              "      <th>12</th>\n",
              "      <th>13</th>\n",
              "      <th>14</th>\n",
              "      <th>15</th>\n",
              "      <th>16</th>\n",
              "      <th>17</th>\n",
              "      <th>18</th>\n",
              "      <th>19</th>\n",
              "    </tr>\n",
              "  </thead>\n",
              "  <tbody>\n",
              "    <tr>\n",
              "      <th>0</th>\n",
              "      <td>10297</td>\n",
              "      <td>54</td>\n",
              "      <td>3.0</td>\n",
              "      <td>42.0</td>\n",
              "      <td>1.000000</td>\n",
              "      <td>10055.0</td>\n",
              "      <td>1.363205</td>\n",
              "      <td>0.0</td>\n",
              "      <td>2.0</td>\n",
              "      <td>1.000000</td>\n",
              "      <td>7978.0</td>\n",
              "      <td>1.413036</td>\n",
              "      <td>0.0</td>\n",
              "      <td>0.0</td>\n",
              "      <td>0.000000</td>\n",
              "      <td>0.0</td>\n",
              "      <td>0.000000</td>\n",
              "      <td>0.0</td>\n",
              "      <td>0.0</td>\n",
              "      <td>0.0</td>\n",
              "      <td>0.0</td>\n",
              "      <td>0.000000</td>\n",
              "      <td>0.0</td>\n",
              "      <td>0.0</td>\n",
              "      <td>0.0</td>\n",
              "      <td>...</td>\n",
              "      <td>0.0</td>\n",
              "      <td>0.0</td>\n",
              "      <td>0.0</td>\n",
              "      <td>0.00000</td>\n",
              "      <td>37</td>\n",
              "      <td>0.010209</td>\n",
              "      <td>0.000000</td>\n",
              "      <td>0.0</td>\n",
              "      <td>0.032501</td>\n",
              "      <td>0.0</td>\n",
              "      <td>0.0</td>\n",
              "      <td>0.0</td>\n",
              "      <td>0.000000</td>\n",
              "      <td>0.003115</td>\n",
              "      <td>0.029606</td>\n",
              "      <td>0.0</td>\n",
              "      <td>0.0</td>\n",
              "      <td>0.000000</td>\n",
              "      <td>0.0</td>\n",
              "      <td>0.0</td>\n",
              "      <td>0.000039</td>\n",
              "      <td>0.0</td>\n",
              "      <td>0.0</td>\n",
              "      <td>0.0</td>\n",
              "      <td>0.0</td>\n",
              "    </tr>\n",
              "    <tr>\n",
              "      <th>1</th>\n",
              "      <td>10296</td>\n",
              "      <td>54</td>\n",
              "      <td>0.0</td>\n",
              "      <td>24.0</td>\n",
              "      <td>1.000000</td>\n",
              "      <td>10055.0</td>\n",
              "      <td>1.363205</td>\n",
              "      <td>0.0</td>\n",
              "      <td>0.0</td>\n",
              "      <td>0.000000</td>\n",
              "      <td>0.0</td>\n",
              "      <td>0.000000</td>\n",
              "      <td>0.0</td>\n",
              "      <td>0.0</td>\n",
              "      <td>0.000000</td>\n",
              "      <td>0.0</td>\n",
              "      <td>0.000000</td>\n",
              "      <td>0.0</td>\n",
              "      <td>0.0</td>\n",
              "      <td>0.0</td>\n",
              "      <td>0.0</td>\n",
              "      <td>0.000000</td>\n",
              "      <td>0.0</td>\n",
              "      <td>0.0</td>\n",
              "      <td>0.0</td>\n",
              "      <td>...</td>\n",
              "      <td>0.0</td>\n",
              "      <td>0.0</td>\n",
              "      <td>0.0</td>\n",
              "      <td>0.00000</td>\n",
              "      <td>38</td>\n",
              "      <td>0.010209</td>\n",
              "      <td>0.000000</td>\n",
              "      <td>0.0</td>\n",
              "      <td>0.032501</td>\n",
              "      <td>0.0</td>\n",
              "      <td>0.0</td>\n",
              "      <td>0.0</td>\n",
              "      <td>0.000000</td>\n",
              "      <td>0.003115</td>\n",
              "      <td>0.029606</td>\n",
              "      <td>0.0</td>\n",
              "      <td>0.0</td>\n",
              "      <td>0.000000</td>\n",
              "      <td>0.0</td>\n",
              "      <td>0.0</td>\n",
              "      <td>0.000039</td>\n",
              "      <td>0.0</td>\n",
              "      <td>0.0</td>\n",
              "      <td>0.0</td>\n",
              "      <td>0.0</td>\n",
              "    </tr>\n",
              "    <tr>\n",
              "      <th>2</th>\n",
              "      <td>10298</td>\n",
              "      <td>54</td>\n",
              "      <td>21.0</td>\n",
              "      <td>369.0</td>\n",
              "      <td>1.308511</td>\n",
              "      <td>10055.0</td>\n",
              "      <td>1.363205</td>\n",
              "      <td>119.0</td>\n",
              "      <td>1309.0</td>\n",
              "      <td>2.226191</td>\n",
              "      <td>7978.0</td>\n",
              "      <td>1.413036</td>\n",
              "      <td>7.0</td>\n",
              "      <td>144.0</td>\n",
              "      <td>2.526316</td>\n",
              "      <td>6676.0</td>\n",
              "      <td>1.337876</td>\n",
              "      <td>0.0</td>\n",
              "      <td>0.0</td>\n",
              "      <td>0.0</td>\n",
              "      <td>0.0</td>\n",
              "      <td>0.000000</td>\n",
              "      <td>0.0</td>\n",
              "      <td>0.0</td>\n",
              "      <td>0.0</td>\n",
              "      <td>...</td>\n",
              "      <td>0.0</td>\n",
              "      <td>0.0</td>\n",
              "      <td>0.0</td>\n",
              "      <td>0.00000</td>\n",
              "      <td>40</td>\n",
              "      <td>0.019295</td>\n",
              "      <td>0.000000</td>\n",
              "      <td>0.0</td>\n",
              "      <td>0.000000</td>\n",
              "      <td>0.0</td>\n",
              "      <td>0.0</td>\n",
              "      <td>0.0</td>\n",
              "      <td>0.000000</td>\n",
              "      <td>0.003108</td>\n",
              "      <td>0.029608</td>\n",
              "      <td>0.0</td>\n",
              "      <td>0.0</td>\n",
              "      <td>0.000000</td>\n",
              "      <td>0.0</td>\n",
              "      <td>0.0</td>\n",
              "      <td>0.000064</td>\n",
              "      <td>0.0</td>\n",
              "      <td>0.0</td>\n",
              "      <td>0.0</td>\n",
              "      <td>0.0</td>\n",
              "    </tr>\n",
              "    <tr>\n",
              "      <th>3</th>\n",
              "      <td>10300</td>\n",
              "      <td>54</td>\n",
              "      <td>1.0</td>\n",
              "      <td>54.0</td>\n",
              "      <td>1.058824</td>\n",
              "      <td>10055.0</td>\n",
              "      <td>1.363205</td>\n",
              "      <td>31.0</td>\n",
              "      <td>361.0</td>\n",
              "      <td>1.367424</td>\n",
              "      <td>7978.0</td>\n",
              "      <td>1.413036</td>\n",
              "      <td>0.0</td>\n",
              "      <td>53.0</td>\n",
              "      <td>1.606061</td>\n",
              "      <td>6676.0</td>\n",
              "      <td>1.337876</td>\n",
              "      <td>0.0</td>\n",
              "      <td>0.0</td>\n",
              "      <td>0.0</td>\n",
              "      <td>0.0</td>\n",
              "      <td>0.000000</td>\n",
              "      <td>0.0</td>\n",
              "      <td>0.0</td>\n",
              "      <td>0.0</td>\n",
              "      <td>...</td>\n",
              "      <td>0.0</td>\n",
              "      <td>0.0</td>\n",
              "      <td>0.0</td>\n",
              "      <td>0.00000</td>\n",
              "      <td>37</td>\n",
              "      <td>0.010209</td>\n",
              "      <td>0.000000</td>\n",
              "      <td>0.0</td>\n",
              "      <td>0.032501</td>\n",
              "      <td>0.0</td>\n",
              "      <td>0.0</td>\n",
              "      <td>0.0</td>\n",
              "      <td>0.000000</td>\n",
              "      <td>0.003115</td>\n",
              "      <td>0.029606</td>\n",
              "      <td>0.0</td>\n",
              "      <td>0.0</td>\n",
              "      <td>0.000000</td>\n",
              "      <td>0.0</td>\n",
              "      <td>0.0</td>\n",
              "      <td>0.000039</td>\n",
              "      <td>0.0</td>\n",
              "      <td>0.0</td>\n",
              "      <td>0.0</td>\n",
              "      <td>0.0</td>\n",
              "    </tr>\n",
              "    <tr>\n",
              "      <th>4</th>\n",
              "      <td>10284</td>\n",
              "      <td>54</td>\n",
              "      <td>0.0</td>\n",
              "      <td>4.0</td>\n",
              "      <td>1.000000</td>\n",
              "      <td>10055.0</td>\n",
              "      <td>1.363205</td>\n",
              "      <td>0.0</td>\n",
              "      <td>3.0</td>\n",
              "      <td>1.000000</td>\n",
              "      <td>7978.0</td>\n",
              "      <td>1.413036</td>\n",
              "      <td>0.0</td>\n",
              "      <td>5.0</td>\n",
              "      <td>1.000000</td>\n",
              "      <td>6676.0</td>\n",
              "      <td>1.337876</td>\n",
              "      <td>0.0</td>\n",
              "      <td>3.0</td>\n",
              "      <td>1.0</td>\n",
              "      <td>7827.0</td>\n",
              "      <td>1.428285</td>\n",
              "      <td>0.0</td>\n",
              "      <td>10.0</td>\n",
              "      <td>1.0</td>\n",
              "      <td>...</td>\n",
              "      <td>9.0</td>\n",
              "      <td>1.0</td>\n",
              "      <td>7225.0</td>\n",
              "      <td>1.25543</td>\n",
              "      <td>57</td>\n",
              "      <td>0.000000</td>\n",
              "      <td>0.022484</td>\n",
              "      <td>0.0</td>\n",
              "      <td>0.000000</td>\n",
              "      <td>0.0</td>\n",
              "      <td>0.0</td>\n",
              "      <td>0.0</td>\n",
              "      <td>0.000272</td>\n",
              "      <td>0.003082</td>\n",
              "      <td>0.029571</td>\n",
              "      <td>0.0</td>\n",
              "      <td>0.0</td>\n",
              "      <td>0.020269</td>\n",
              "      <td>0.0</td>\n",
              "      <td>0.0</td>\n",
              "      <td>0.000000</td>\n",
              "      <td>0.0</td>\n",
              "      <td>0.0</td>\n",
              "      <td>0.0</td>\n",
              "      <td>0.0</td>\n",
              "    </tr>\n",
              "  </tbody>\n",
              "</table>\n",
              "<p>5 rows × 53 columns</p>\n",
              "</div>"
            ],
            "text/plain": [
              "   item_id  shop_id  target_lag_1  target_item_lag_1  target_item_mean_lag_1  \\\n",
              "0    10297       54           3.0               42.0                1.000000   \n",
              "1    10296       54           0.0               24.0                1.000000   \n",
              "2    10298       54          21.0              369.0                1.308511   \n",
              "3    10300       54           1.0               54.0                1.058824   \n",
              "4    10284       54           0.0                4.0                1.000000   \n",
              "\n",
              "   target_shop_lag_1  target_shop_mean_lag_1  target_lag_2  target_item_lag_2  \\\n",
              "0            10055.0                1.363205           0.0                2.0   \n",
              "1            10055.0                1.363205           0.0                0.0   \n",
              "2            10055.0                1.363205         119.0             1309.0   \n",
              "3            10055.0                1.363205          31.0              361.0   \n",
              "4            10055.0                1.363205           0.0                3.0   \n",
              "\n",
              "   target_item_mean_lag_2  target_shop_lag_2  target_shop_mean_lag_2  \\\n",
              "0                1.000000             7978.0                1.413036   \n",
              "1                0.000000                0.0                0.000000   \n",
              "2                2.226191             7978.0                1.413036   \n",
              "3                1.367424             7978.0                1.413036   \n",
              "4                1.000000             7978.0                1.413036   \n",
              "\n",
              "   target_lag_3  target_item_lag_3  target_item_mean_lag_3  target_shop_lag_3  \\\n",
              "0           0.0                0.0                0.000000                0.0   \n",
              "1           0.0                0.0                0.000000                0.0   \n",
              "2           7.0              144.0                2.526316             6676.0   \n",
              "3           0.0               53.0                1.606061             6676.0   \n",
              "4           0.0                5.0                1.000000             6676.0   \n",
              "\n",
              "   target_shop_mean_lag_3  target_lag_4  target_item_lag_4  \\\n",
              "0                0.000000           0.0                0.0   \n",
              "1                0.000000           0.0                0.0   \n",
              "2                1.337876           0.0                0.0   \n",
              "3                1.337876           0.0                0.0   \n",
              "4                1.337876           0.0                3.0   \n",
              "\n",
              "   target_item_mean_lag_4  target_shop_lag_4  target_shop_mean_lag_4  \\\n",
              "0                     0.0                0.0                0.000000   \n",
              "1                     0.0                0.0                0.000000   \n",
              "2                     0.0                0.0                0.000000   \n",
              "3                     0.0                0.0                0.000000   \n",
              "4                     1.0             7827.0                1.428285   \n",
              "\n",
              "   target_lag_5  target_item_lag_5  target_item_mean_lag_5  ...  \\\n",
              "0           0.0                0.0                     0.0  ...   \n",
              "1           0.0                0.0                     0.0  ...   \n",
              "2           0.0                0.0                     0.0  ...   \n",
              "3           0.0                0.0                     0.0  ...   \n",
              "4           0.0               10.0                     1.0  ...   \n",
              "\n",
              "   target_item_lag_6  target_item_mean_lag_6  target_shop_lag_6  \\\n",
              "0                0.0                     0.0                0.0   \n",
              "1                0.0                     0.0                0.0   \n",
              "2                0.0                     0.0                0.0   \n",
              "3                0.0                     0.0                0.0   \n",
              "4                9.0                     1.0             7225.0   \n",
              "\n",
              "   target_shop_mean_lag_6  item_category_id         0         1    2  \\\n",
              "0                 0.00000                37  0.010209  0.000000  0.0   \n",
              "1                 0.00000                38  0.010209  0.000000  0.0   \n",
              "2                 0.00000                40  0.019295  0.000000  0.0   \n",
              "3                 0.00000                37  0.010209  0.000000  0.0   \n",
              "4                 1.25543                57  0.000000  0.022484  0.0   \n",
              "\n",
              "          3    4    5    6         7         8         9   10   11        12  \\\n",
              "0  0.032501  0.0  0.0  0.0  0.000000  0.003115  0.029606  0.0  0.0  0.000000   \n",
              "1  0.032501  0.0  0.0  0.0  0.000000  0.003115  0.029606  0.0  0.0  0.000000   \n",
              "2  0.000000  0.0  0.0  0.0  0.000000  0.003108  0.029608  0.0  0.0  0.000000   \n",
              "3  0.032501  0.0  0.0  0.0  0.000000  0.003115  0.029606  0.0  0.0  0.000000   \n",
              "4  0.000000  0.0  0.0  0.0  0.000272  0.003082  0.029571  0.0  0.0  0.020269   \n",
              "\n",
              "    13   14        15   16   17   18   19  \n",
              "0  0.0  0.0  0.000039  0.0  0.0  0.0  0.0  \n",
              "1  0.0  0.0  0.000039  0.0  0.0  0.0  0.0  \n",
              "2  0.0  0.0  0.000064  0.0  0.0  0.0  0.0  \n",
              "3  0.0  0.0  0.000039  0.0  0.0  0.0  0.0  \n",
              "4  0.0  0.0  0.000000  0.0  0.0  0.0  0.0  \n",
              "\n",
              "[5 rows x 53 columns]"
            ]
          },
          "metadata": {
            "tags": []
          },
          "execution_count": 35
        }
      ]
    },
    {
      "cell_type": "markdown",
      "metadata": {
        "id": "_7GFnosGYIuJ"
      },
      "source": [
        "**TRAINING**"
      ]
    },
    {
      "cell_type": "code",
      "metadata": {
        "trusted": true,
        "id": "oqpxx1N4YIuK"
      },
      "source": [
        "#train lgb\n",
        "lgb_params = {\n",
        "               'feature_fraction': 0.75,\n",
        "               'metric': 'rmse',\n",
        "               'nthread':1, \n",
        "               'min_data_in_leaf': 2**7, \n",
        "               'bagging_fraction': 0.75, \n",
        "               'learning_rate': 0.03, \n",
        "               'objective': 'mse', \n",
        "               'bagging_seed': 2**7, \n",
        "               'num_leaves': 2**7,\n",
        "               'bagging_freq':1,\n",
        "               'verbose':0 \n",
        "              }\n",
        "\n",
        "model = lgb.train(lgb_params, lgb.Dataset(X_train, label=y_train), 100)\n",
        "pred_lgb = model.predict(X_test).clip(*[0,20])\n",
        "\n",
        "#print('Test R-squared for LightGBM is %f' % r2_score(y_test, pred_lgb))"
      ],
      "execution_count": null,
      "outputs": []
    },
    {
      "cell_type": "code",
      "metadata": {
        "trusted": true,
        "id": "XrDwcjbNYIuO"
      },
      "source": [
        "lr = LinearRegression()\n",
        "lr.fit(X_train,y_train)\n",
        "pred_lr = lr.predict(X_test).clip(*[0,20])"
      ],
      "execution_count": null,
      "outputs": []
    },
    {
      "cell_type": "code",
      "metadata": {
        "trusted": true,
        "id": "MwUmvLThYIuU",
        "colab": {
          "base_uri": "https://localhost:8080/",
          "height": 404
        },
        "outputId": "e106e077-cdcb-456a-ddef-a17a89fbfdc2"
      },
      "source": [
        "#importance feature\n",
        "fig, ax = plt.subplots(figsize = (6,6))\n",
        "lgb.plot_importance(model, max_num_features = 20, title = 'Feature importance', ax = ax)\n",
        "plt.show()\n"
      ],
      "execution_count": null,
      "outputs": [
        {
          "output_type": "display_data",
          "data": {
            "image/png": "[encoded data removed]",
            "text/plain": [
              "<Figure size 432x432 with 1 Axes>"
            ]
          },
          "metadata": {
            "tags": []
          }
        }
      ]
    },
    {
      "cell_type": "code",
      "metadata": {
        "trusted": true,
        "id": "n6-3s-vCYIuX",
        "colab": {
          "base_uri": "https://localhost:8080/",
          "height": 221
        },
        "outputId": "449c46cb-5413-407f-bfe2-91ab32348069"
      },
      "source": [
        "#validation dates\n",
        "dates = [27, 28, 29, 30, 31, 32, 33]\n",
        "val_dates = all_data.loc[all_data['date_block_num'] < 34,'date_block_num']"
      ],
      "execution_count": null,
      "outputs": [
        {
          "output_type": "execute_result",
          "data": {
            "text/plain": [
              "0          12\n",
              "1          12\n",
              "2          12\n",
              "3          12\n",
              "4          12\n",
              "           ..\n",
              "6425089    33\n",
              "6425090    33\n",
              "6425091    33\n",
              "6425092    33\n",
              "6425093    33\n",
              "Name: date_block_num, Length: 6425094, dtype: int32"
            ]
          },
          "metadata": {
            "tags": []
          },
          "execution_count": 39
        }
      ]
    },
    {
      "cell_type": "code",
      "metadata": {
        "trusted": true,
        "id": "jQoQLyFtYIue"
      },
      "source": [
        "\n",
        "y_train_level2 = y_train[val_dates.isin([27, 28, 29, 30, 31, 32, 33])]\n",
        "X_train_level2 = np.zeros([y_train_level2.shape[0], 2])"
      ],
      "execution_count": null,
      "outputs": []
    },
    {
      "cell_type": "markdown",
      "metadata": {
        "id": "J2xBPuN0Iw0r"
      },
      "source": [
        "**KFold scheme in time series**\n",
        "\n",
        "In time-series task we usually have a fixed period of time we are asked to predict. Like day, week, month or arbitrary period with duration of T.\n",
        "\n",
        "Split the train data into chunks of duration T. Select first M chunks.\n",
        "Fit N diverse models on those M chunks and predict for the chunk M+1. Then fit those models on first M+1 chunks and predict for chunk M+2 and so on, until you hit the end. After that use all train data to fit models and get predictions for test. Now we will have meta-features for the chunks starting from number M+1 as well as meta-features for the test.\n",
        "Now we can use meta-features from first K chunks [M+1,M+2,..,M+K] to fit level 2 models and validate them on chunk M+K+1. Essentially we are back to step 1. with the lesser amount of chunks and meta-features instead of features."
      ]
    },
    {
      "cell_type": "code",
      "metadata": {
        "trusted": true,
        "id": "njThaJf2YIuj",
        "colab": {
          "base_uri": "https://localhost:8080/",
          "height": 136
        },
        "outputId": "0d8111ef-bb27-4d00-869f-0c4eb7462e12"
      },
      "source": [
        "\n",
        "for cur in dates:\n",
        "    print('date_block_num: ' +str(cur))\n",
        "    \n",
        "    X_train_2 = all_data[all_data['date_block_num'] < cur].drop(to_drop_cols,axis=1)\n",
        "    y_train_2 = all_data[all_data['date_block_num'] < cur].target.values\n",
        "    #create meta features    \n",
        "    lr = LinearRegression()\n",
        "    lr.fit(X_train_2,y_train_2)\n",
        "    \n",
        "    model_lgb = lgb.train(lgb_params, lgb.Dataset(X_train_2, label=y_train_2), 100)\n",
        "    \n",
        "    X_val_2 = all_data[all_data['date_block_num'] == cur].drop(to_drop_cols,axis=1)\n",
        "    y_val_2 = all_data[all_data['date_block_num'] == cur].target.values\n",
        "    \n",
        "    #meta features\n",
        "    y_hat_lr_2 = lr.predict(X_val_2).clip(*[0,20])\n",
        "    X_train_level2[cur == val_dates[val_dates >= 27],0] = y_hat_lr_2\n",
        "    y_hat_lgb_2 = model_lgb.predict(X_val_2).clip(*[0,20])\n",
        "    X_train_level2[cur == val_dates[val_dates >= 27],1] = y_hat_lgb_2"
      ],
      "execution_count": null,
      "outputs": [
        {
          "output_type": "stream",
          "text": [
            "date_block_num: 27\n",
            "date_block_num: 28\n",
            "date_block_num: 29\n",
            "date_block_num: 30\n",
            "date_block_num: 31\n",
            "date_block_num: 32\n",
            "date_block_num: 33\n"
          ],
          "name": "stdout"
        }
      ]
    },
    {
      "cell_type": "code",
      "metadata": {
        "trusted": true,
        "id": "eZYveAKRYIun",
        "colab": {
          "base_uri": "https://localhost:8080/",
          "height": 334
        },
        "outputId": "ea96df95-cf20-40e6-8bb6-91b279bc7770"
      },
      "source": [
        "plt.figure(figsize=(7,5))\n",
        "plt.scatter(X_train_level2[:,0], X_train_level2[:,1], alpha=0.45)\n",
        "plt.xlabel('Linear regression test set predictions')\n",
        "plt.ylabel('LightGBM test set predictions')\n",
        "plt.show()"
      ],
      "execution_count": null,
      "outputs": [
        {
          "output_type": "display_data",
          "data": {
            "image/png": "[encoded data removed]",
            "text/plain": [
              "<Figure size 504x360 with 1 Axes>"
            ]
          },
          "metadata": {
            "tags": []
          }
        }
      ]
    },
    {
      "cell_type": "code",
      "metadata": {
        "trusted": true,
        "id": "MKydCqjkYIuu"
      },
      "source": [
        "X_test_level2 = np.c_[pred_lr,pred_lgb]"
      ],
      "execution_count": null,
      "outputs": []
    },
    {
      "cell_type": "markdown",
      "metadata": {
        "id": "Y5V4wKvyH7z6"
      },
      "source": [
        "**STACKING**"
      ]
    },
    {
      "cell_type": "code",
      "metadata": {
        "trusted": true,
        "id": "6WDUK78BYIuy"
      },
      "source": [
        "lr = LinearRegression()\n",
        "lr.fit(X_train_level2,y_train_level2)\n",
        "y_hat_level2 = lr.predict(X_train_level2).clip(*[0,20])"
      ],
      "execution_count": null,
      "outputs": []
    },
    {
      "cell_type": "code",
      "metadata": {
        "trusted": true,
        "id": "oqptfOh0YIu1",
        "colab": {
          "base_uri": "https://localhost:8080/",
          "height": 34
        },
        "outputId": "2c4e85f0-9e2b-4449-826c-3147886506ae"
      },
      "source": [
        "r2_score(y_train_level2, y_hat_level2)"
      ],
      "execution_count": null,
      "outputs": [
        {
          "output_type": "execute_result",
          "data": {
            "text/plain": [
              "0.07897083984674247"
            ]
          },
          "metadata": {
            "tags": []
          },
          "execution_count": 45
        }
      ]
    },
    {
      "cell_type": "code",
      "metadata": {
        "trusted": true,
        "id": "aisFquJ0YIu4",
        "colab": {
          "base_uri": "https://localhost:8080/",
          "height": 334
        },
        "outputId": "3cd85c72-3535-436e-8db1-1bd0543d4b1e"
      },
      "source": [
        "plt.figure(figsize=(7,5))\n",
        "plt.scatter(X_test_level2[:,0], X_test_level2[:,1], alpha = 0.45)\n",
        "plt.xlabel('Linear regression test set predictions')\n",
        "plt.ylabel('LightGBM test set predictions')\n",
        "plt.show()"
      ],
      "execution_count": null,
      "outputs": [
        {
          "output_type": "display_data",
          "data": {
            "image/png": "[encoded data removed]",
            "text/plain": [
              "<Figure size 504x360 with 1 Axes>"
            ]
          },
          "metadata": {
            "tags": []
          }
        }
      ]
    },
    {
      "cell_type": "markdown",
      "metadata": {
        "id": "E9sqUpHEH-L-"
      },
      "source": [
        "**SIMPLE CONVEX MIX**"
      ]
    },
    {
      "cell_type": "code",
      "metadata": {
        "trusted": true,
        "id": "nTbJZ_VqYIvR",
        "colab": {
          "base_uri": "https://localhost:8080/",
          "height": 34
        },
        "outputId": "20e117e2-4717-41d4-996c-8d99f5e7cebb"
      },
      "source": [
        "alphas_to_try = np.linspace(0, 1, 1001)\n",
        "score=[]\n",
        "alpha_max=0\n",
        "\n",
        "for a in alphas_to_try:\n",
        "    _X = np.matmul(X_train_level2,[a,1-a])\n",
        "    score.append(r2_score(y_train_level2 , _X))\n",
        "\n",
        "best_alpha = alphas_to_try[np.argmax(score)]\n",
        "r2_train_simple_mix = r2_score(y_train_level2 , np.matmul(X_train_level2,[best_alpha , 1-best_alpha]))\n",
        "\n",
        "print('Best alpha: %f; Corresponding r2 score on train: %f' % (best_alpha , r2_train_simple_mix))"
      ],
      "execution_count": null,
      "outputs": [
        {
          "output_type": "stream",
          "text": [
            "Best alpha: 0.000000; Corresponding r2 score on train: 0.086214\n"
          ],
          "name": "stdout"
        }
      ]
    },
    {
      "cell_type": "code",
      "metadata": {
        "id": "lPhRhZsb-K-Q",
        "colab": {
          "base_uri": "https://localhost:8080/",
          "height": 34
        },
        "outputId": "ed97aff8-5d4e-4a44-cdf8-441ef73b02c8"
      },
      "source": [
        "best_alpha"
      ],
      "execution_count": null,
      "outputs": [
        {
          "output_type": "execute_result",
          "data": {
            "text/plain": [
              "0.0"
            ]
          },
          "metadata": {
            "tags": []
          },
          "execution_count": 73
        }
      ]
    },
    {
      "cell_type": "markdown",
      "metadata": {
        "id": "EMNoQXJUGGAu"
      },
      "source": [
        "From different tries, I found that simple convex mix yield better score on the public score than stacking."
      ]
    },
    {
      "cell_type": "code",
      "metadata": {
        "id": "5Jm6Z8BW-OxF"
      },
      "source": [
        "test_preds = np.matmul(X_test_level2,[best_alpha, 1-best_alpha])\n",
        "submit = pd.DataFrame(test_preds)"
      ],
      "execution_count": null,
      "outputs": []
    },
    {
      "cell_type": "code",
      "metadata": {
        "id": "pgiVmZ11_WZy"
      },
      "source": [
        "submission = pd.concat([test,submit],axis=1)\n",
        "submission.drop(['shop_id','item_id','date_block_num'], axis = 1, inplace = True)"
      ],
      "execution_count": null,
      "outputs": []
    },
    {
      "cell_type": "code",
      "metadata": {
        "id": "9t-ZN4zS_ZVN"
      },
      "source": [
        "submission.columns=['ID','item_cnt_month']"
      ],
      "execution_count": null,
      "outputs": []
    },
    {
      "cell_type": "code",
      "metadata": {
        "id": "YTTE5h4__bUz",
        "colab": {
          "base_uri": "https://localhost:8080/",
          "height": 204
        },
        "outputId": "abf6ca32-a97d-4586-b1b5-d593c7a6a371"
      },
      "source": [
        "submission.head()"
      ],
      "execution_count": null,
      "outputs": [
        {
          "output_type": "execute_result",
          "data": {
            "text/html": [
              "<div>\n",
              "<style scoped>\n",
              "    .dataframe tbody tr th:only-of-type {\n",
              "        vertical-align: middle;\n",
              "    }\n",
              "\n",
              "    .dataframe tbody tr th {\n",
              "        vertical-align: top;\n",
              "    }\n",
              "\n",
              "    .dataframe thead th {\n",
              "        text-align: right;\n",
              "    }\n",
              "</style>\n",
              "<table border=\"1\" class=\"dataframe\">\n",
              "  <thead>\n",
              "    <tr style=\"text-align: right;\">\n",
              "      <th></th>\n",
              "      <th>ID</th>\n",
              "      <th>item_cnt_month</th>\n",
              "    </tr>\n",
              "  </thead>\n",
              "  <tbody>\n",
              "    <tr>\n",
              "      <th>0</th>\n",
              "      <td>0</td>\n",
              "      <td>0.462138</td>\n",
              "    </tr>\n",
              "    <tr>\n",
              "      <th>1</th>\n",
              "      <td>1</td>\n",
              "      <td>0.122792</td>\n",
              "    </tr>\n",
              "    <tr>\n",
              "      <th>2</th>\n",
              "      <td>2</td>\n",
              "      <td>1.006770</td>\n",
              "    </tr>\n",
              "    <tr>\n",
              "      <th>3</th>\n",
              "      <td>3</td>\n",
              "      <td>0.326454</td>\n",
              "    </tr>\n",
              "    <tr>\n",
              "      <th>4</th>\n",
              "      <td>4</td>\n",
              "      <td>2.287561</td>\n",
              "    </tr>\n",
              "  </tbody>\n",
              "</table>\n",
              "</div>"
            ],
            "text/plain": [
              "   ID  item_cnt_month\n",
              "0   0        0.462138\n",
              "1   1        0.122792\n",
              "2   2        1.006770\n",
              "3   3        0.326454\n",
              "4   4        2.287561"
            ]
          },
          "metadata": {
            "tags": []
          },
          "execution_count": 77
        }
      ]
    },
    {
      "cell_type": "code",
      "metadata": {
        "id": "cXB0z3WS_duK"
      },
      "source": [
        "submission.to_csv('b.csv',index=False)"
      ],
      "execution_count": null,
      "outputs": []
    },
    {
      "cell_type": "code",
      "metadata": {
        "id": "qSN7DSGJ_hO3"
      },
      "source": [
        ""
      ],
      "execution_count": null,
      "outputs": []
    }
  ]
}